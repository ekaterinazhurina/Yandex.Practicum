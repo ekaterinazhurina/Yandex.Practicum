{
 "cells": [
  {
   "cell_type": "markdown",
   "metadata": {},
   "source": [
    "# \"Стримчик\", план на 2017г."
   ]
  },
  {
   "cell_type": "markdown",
   "metadata": {},
   "source": [
    "**Цель проекта** - выявить драйверы популярности игр, чтобы работать с потенциально популярными продуктами и спланировать рекламные компании под них. "
   ]
  },
  {
   "cell_type": "markdown",
   "metadata": {},
   "source": [
    "#### План выполнения работы:\n",
    "* Изучение имеющихся данных\n",
    "* Приведение данных к нужным типам\n",
    "* Нахождение и исправление ошибок, заполнение пропусков, добавление новых данных\n",
    "* Подсчет, сколько игр выпускалось в разные годы\n",
    "* Подсчет, как менялись продажи по платформам, вычисление средней продолжительности жизни платформы\n",
    "* Выбор актуального периода данных\n",
    "* Выбор актуальных платформ\n",
    "* Подсчет каждой игры с разбивкой по платформам\n",
    "* Подсчет влияние отзывов на игры на продажи\n",
    "* Подсчет зависимость жанров на продажи\n",
    "* Составление портретов игроков для каждого региона\n",
    "* Подсчет влияние возрастного рейтинга на продажи\n",
    "* Проверка гипотез\n",
    "* Вывод по проекту и рекоммендации "
   ]
  },
  {
   "cell_type": "markdown",
   "metadata": {},
   "source": [
    "#### Импорт библиотек"
   ]
  },
  {
   "cell_type": "code",
   "execution_count": 1,
   "metadata": {},
   "outputs": [],
   "source": [
    "import pandas as pd\n",
    "pd.set_option('display.max_columns', None)\n",
    "import matplotlib.pyplot as plt\n",
    "import seaborn as sns\n",
    "from scipy import stats as st\n",
    "import numpy as np"
   ]
  },
  {
   "cell_type": "markdown",
   "metadata": {},
   "source": [
    "#### Импорт и вывод исторических данных по играм"
   ]
  },
  {
   "cell_type": "code",
   "execution_count": 2,
   "metadata": {},
   "outputs": [
    {
     "data": {
      "text/html": [
       "<div>\n",
       "<style scoped>\n",
       "    .dataframe tbody tr th:only-of-type {\n",
       "        vertical-align: middle;\n",
       "    }\n",
       "\n",
       "    .dataframe tbody tr th {\n",
       "        vertical-align: top;\n",
       "    }\n",
       "\n",
       "    .dataframe thead th {\n",
       "        text-align: right;\n",
       "    }\n",
       "</style>\n",
       "<table border=\"1\" class=\"dataframe\">\n",
       "  <thead>\n",
       "    <tr style=\"text-align: right;\">\n",
       "      <th></th>\n",
       "      <th>Name</th>\n",
       "      <th>Platform</th>\n",
       "      <th>Year_of_Release</th>\n",
       "      <th>Genre</th>\n",
       "      <th>NA_sales</th>\n",
       "      <th>EU_sales</th>\n",
       "      <th>JP_sales</th>\n",
       "      <th>Other_sales</th>\n",
       "      <th>Critic_Score</th>\n",
       "      <th>User_Score</th>\n",
       "      <th>Rating</th>\n",
       "    </tr>\n",
       "  </thead>\n",
       "  <tbody>\n",
       "    <tr>\n",
       "      <th>0</th>\n",
       "      <td>Wii Sports</td>\n",
       "      <td>Wii</td>\n",
       "      <td>2006.0</td>\n",
       "      <td>Sports</td>\n",
       "      <td>41.36</td>\n",
       "      <td>28.96</td>\n",
       "      <td>3.77</td>\n",
       "      <td>8.45</td>\n",
       "      <td>76.0</td>\n",
       "      <td>8</td>\n",
       "      <td>E</td>\n",
       "    </tr>\n",
       "    <tr>\n",
       "      <th>1</th>\n",
       "      <td>Super Mario Bros.</td>\n",
       "      <td>NES</td>\n",
       "      <td>1985.0</td>\n",
       "      <td>Platform</td>\n",
       "      <td>29.08</td>\n",
       "      <td>3.58</td>\n",
       "      <td>6.81</td>\n",
       "      <td>0.77</td>\n",
       "      <td>NaN</td>\n",
       "      <td>NaN</td>\n",
       "      <td>NaN</td>\n",
       "    </tr>\n",
       "    <tr>\n",
       "      <th>2</th>\n",
       "      <td>Mario Kart Wii</td>\n",
       "      <td>Wii</td>\n",
       "      <td>2008.0</td>\n",
       "      <td>Racing</td>\n",
       "      <td>15.68</td>\n",
       "      <td>12.76</td>\n",
       "      <td>3.79</td>\n",
       "      <td>3.29</td>\n",
       "      <td>82.0</td>\n",
       "      <td>8.3</td>\n",
       "      <td>E</td>\n",
       "    </tr>\n",
       "    <tr>\n",
       "      <th>3</th>\n",
       "      <td>Wii Sports Resort</td>\n",
       "      <td>Wii</td>\n",
       "      <td>2009.0</td>\n",
       "      <td>Sports</td>\n",
       "      <td>15.61</td>\n",
       "      <td>10.93</td>\n",
       "      <td>3.28</td>\n",
       "      <td>2.95</td>\n",
       "      <td>80.0</td>\n",
       "      <td>8</td>\n",
       "      <td>E</td>\n",
       "    </tr>\n",
       "    <tr>\n",
       "      <th>4</th>\n",
       "      <td>Pokemon Red/Pokemon Blue</td>\n",
       "      <td>GB</td>\n",
       "      <td>1996.0</td>\n",
       "      <td>Role-Playing</td>\n",
       "      <td>11.27</td>\n",
       "      <td>8.89</td>\n",
       "      <td>10.22</td>\n",
       "      <td>1.00</td>\n",
       "      <td>NaN</td>\n",
       "      <td>NaN</td>\n",
       "      <td>NaN</td>\n",
       "    </tr>\n",
       "    <tr>\n",
       "      <th>...</th>\n",
       "      <td>...</td>\n",
       "      <td>...</td>\n",
       "      <td>...</td>\n",
       "      <td>...</td>\n",
       "      <td>...</td>\n",
       "      <td>...</td>\n",
       "      <td>...</td>\n",
       "      <td>...</td>\n",
       "      <td>...</td>\n",
       "      <td>...</td>\n",
       "      <td>...</td>\n",
       "    </tr>\n",
       "    <tr>\n",
       "      <th>16710</th>\n",
       "      <td>Samurai Warriors: Sanada Maru</td>\n",
       "      <td>PS3</td>\n",
       "      <td>2016.0</td>\n",
       "      <td>Action</td>\n",
       "      <td>0.00</td>\n",
       "      <td>0.00</td>\n",
       "      <td>0.01</td>\n",
       "      <td>0.00</td>\n",
       "      <td>NaN</td>\n",
       "      <td>NaN</td>\n",
       "      <td>NaN</td>\n",
       "    </tr>\n",
       "    <tr>\n",
       "      <th>16711</th>\n",
       "      <td>LMA Manager 2007</td>\n",
       "      <td>X360</td>\n",
       "      <td>2006.0</td>\n",
       "      <td>Sports</td>\n",
       "      <td>0.00</td>\n",
       "      <td>0.01</td>\n",
       "      <td>0.00</td>\n",
       "      <td>0.00</td>\n",
       "      <td>NaN</td>\n",
       "      <td>NaN</td>\n",
       "      <td>NaN</td>\n",
       "    </tr>\n",
       "    <tr>\n",
       "      <th>16712</th>\n",
       "      <td>Haitaka no Psychedelica</td>\n",
       "      <td>PSV</td>\n",
       "      <td>2016.0</td>\n",
       "      <td>Adventure</td>\n",
       "      <td>0.00</td>\n",
       "      <td>0.00</td>\n",
       "      <td>0.01</td>\n",
       "      <td>0.00</td>\n",
       "      <td>NaN</td>\n",
       "      <td>NaN</td>\n",
       "      <td>NaN</td>\n",
       "    </tr>\n",
       "    <tr>\n",
       "      <th>16713</th>\n",
       "      <td>Spirits &amp; Spells</td>\n",
       "      <td>GBA</td>\n",
       "      <td>2003.0</td>\n",
       "      <td>Platform</td>\n",
       "      <td>0.01</td>\n",
       "      <td>0.00</td>\n",
       "      <td>0.00</td>\n",
       "      <td>0.00</td>\n",
       "      <td>NaN</td>\n",
       "      <td>NaN</td>\n",
       "      <td>NaN</td>\n",
       "    </tr>\n",
       "    <tr>\n",
       "      <th>16714</th>\n",
       "      <td>Winning Post 8 2016</td>\n",
       "      <td>PSV</td>\n",
       "      <td>2016.0</td>\n",
       "      <td>Simulation</td>\n",
       "      <td>0.00</td>\n",
       "      <td>0.00</td>\n",
       "      <td>0.01</td>\n",
       "      <td>0.00</td>\n",
       "      <td>NaN</td>\n",
       "      <td>NaN</td>\n",
       "      <td>NaN</td>\n",
       "    </tr>\n",
       "  </tbody>\n",
       "</table>\n",
       "<p>16715 rows × 11 columns</p>\n",
       "</div>"
      ],
      "text/plain": [
       "                                Name Platform  Year_of_Release         Genre  \\\n",
       "0                         Wii Sports      Wii           2006.0        Sports   \n",
       "1                  Super Mario Bros.      NES           1985.0      Platform   \n",
       "2                     Mario Kart Wii      Wii           2008.0        Racing   \n",
       "3                  Wii Sports Resort      Wii           2009.0        Sports   \n",
       "4           Pokemon Red/Pokemon Blue       GB           1996.0  Role-Playing   \n",
       "...                              ...      ...              ...           ...   \n",
       "16710  Samurai Warriors: Sanada Maru      PS3           2016.0        Action   \n",
       "16711               LMA Manager 2007     X360           2006.0        Sports   \n",
       "16712        Haitaka no Psychedelica      PSV           2016.0     Adventure   \n",
       "16713               Spirits & Spells      GBA           2003.0      Platform   \n",
       "16714            Winning Post 8 2016      PSV           2016.0    Simulation   \n",
       "\n",
       "       NA_sales  EU_sales  JP_sales  Other_sales  Critic_Score User_Score  \\\n",
       "0         41.36     28.96      3.77         8.45          76.0          8   \n",
       "1         29.08      3.58      6.81         0.77           NaN        NaN   \n",
       "2         15.68     12.76      3.79         3.29          82.0        8.3   \n",
       "3         15.61     10.93      3.28         2.95          80.0          8   \n",
       "4         11.27      8.89     10.22         1.00           NaN        NaN   \n",
       "...         ...       ...       ...          ...           ...        ...   \n",
       "16710      0.00      0.00      0.01         0.00           NaN        NaN   \n",
       "16711      0.00      0.01      0.00         0.00           NaN        NaN   \n",
       "16712      0.00      0.00      0.01         0.00           NaN        NaN   \n",
       "16713      0.01      0.00      0.00         0.00           NaN        NaN   \n",
       "16714      0.00      0.00      0.01         0.00           NaN        NaN   \n",
       "\n",
       "      Rating  \n",
       "0          E  \n",
       "1        NaN  \n",
       "2          E  \n",
       "3          E  \n",
       "4        NaN  \n",
       "...      ...  \n",
       "16710    NaN  \n",
       "16711    NaN  \n",
       "16712    NaN  \n",
       "16713    NaN  \n",
       "16714    NaN  \n",
       "\n",
       "[16715 rows x 11 columns]"
      ]
     },
     "metadata": {},
     "output_type": "display_data"
    },
    {
     "name": "stdout",
     "output_type": "stream",
     "text": [
      "<class 'pandas.core.frame.DataFrame'>\n",
      "RangeIndex: 16715 entries, 0 to 16714\n",
      "Data columns (total 11 columns):\n",
      " #   Column           Non-Null Count  Dtype  \n",
      "---  ------           --------------  -----  \n",
      " 0   Name             16713 non-null  object \n",
      " 1   Platform         16715 non-null  object \n",
      " 2   Year_of_Release  16446 non-null  float64\n",
      " 3   Genre            16713 non-null  object \n",
      " 4   NA_sales         16715 non-null  float64\n",
      " 5   EU_sales         16715 non-null  float64\n",
      " 6   JP_sales         16715 non-null  float64\n",
      " 7   Other_sales      16715 non-null  float64\n",
      " 8   Critic_Score     8137 non-null   float64\n",
      " 9   User_Score       10014 non-null  object \n",
      " 10  Rating           9949 non-null   object \n",
      "dtypes: float64(6), object(5)\n",
      "memory usage: 1.4+ MB\n",
      "None\n"
     ]
    }
   ],
   "source": [
    "games = pd.read_csv('games.csv')\n",
    "display(games)\n",
    "print(games.info())"
   ]
  },
  {
   "cell_type": "markdown",
   "metadata": {},
   "source": [
    "#### Описание данных "
   ]
  },
  {
   "cell_type": "markdown",
   "metadata": {},
   "source": [
    "- **Name** — название игры\n",
    "- **Platform** — платформа\n",
    "- **Year_of_Release** — год выпуска\n",
    "- **Genre** — жанр игры\n",
    "- **NA_sales** — продажи в Северной Америке (миллионы проданных копий)\n",
    "- **EU_sales** — продажи в Европе (миллионы проданных копий)\n",
    "- **JP_sales** — продажи в Японии (миллионы проданных копий)\n",
    "- **Other_sales** — продажи в других странах (миллионы проданных копий)\n",
    "- **Critic_Score** — оценка критиков (максимум 100)\n",
    "- **User_Score** — оценка пользователей (максимум 10)\n",
    "- **Rating** — рейтинг от организации ESRB"
   ]
  },
  {
   "cell_type": "markdown",
   "metadata": {},
   "source": [
    "Открыли и посмотрели данные. Можно сразу заметить, что есть пропуски в столбцах **name , year_of_release, genre, critic_score, user_score, rating**\n",
    "Так как данные были собраны из разных источников, то логично предположить, что пропуски при агрегации этих данных. Например значения в наименованиях игр могли пропасть из-за того, что в источнике была неправильная кодировка символов. Годы выпуска могли пропасть, просто потому что они не были внесены изначально в источник данных или игры настолько старые, что года не посчитали нужным заносить в базу. Рейтинги критиков и юзеров могли также находится в источниках, из которых было бы проблематично выгрузить все досканально. Рейтинг ESRB появился относительно недавно, а есть старые игры, для которых на момент ввода рейтинга эти данные просто не были расчитаны, да и не имелось в этом нужды, т.к. эти игры уже не выходили официально в магазинах."
   ]
  },
  {
   "cell_type": "markdown",
   "metadata": {},
   "source": [
    "## Подготовка данных"
   ]
  },
  {
   "cell_type": "markdown",
   "metadata": {},
   "source": [
    "Приведём названия столбцов в нужный регистр, согласно ТЗ к проекту"
   ]
  },
  {
   "cell_type": "code",
   "execution_count": 3,
   "metadata": {},
   "outputs": [],
   "source": [
    "games.columns = map(str.lower, games.columns)"
   ]
  },
  {
   "cell_type": "markdown",
   "metadata": {},
   "source": [
    "- Строчки с пропущенным названием игры удалим. Их всего две и мы не можем никак адекватно их восстановить. \n",
    "- Пропущенные значения в годах выпуска заполним цифрой-маркером. Теоритически года можно заполнить по названию игры. Например для одной и той же игры год выпуска может быть прописан на одной платформе, а на другой его нет. Но не факт, что мы таким образом сможем восстановить все пропуски, а они в целом составляют 1,5% из датасета. Поэтому проще не проделывать такие манипуляции, на общие выводы они критически не повлияют.\n",
    "- Изменили формат столбца с годами выпуска, т.к. там находятся целочисленные данные. \n",
    "- Изменили формат столбца с оценкой пользователя на float\n"
   ]
  },
  {
   "cell_type": "markdown",
   "metadata": {},
   "source": [
    "**Про TBD**\n",
    "TBD - это ситуация, когда игра не получила свой окончательный рейтинг ввиду того, что произвелось недостаточно оценочных данных для вынесения вердикта. Оснований для заполнения значений tbd у нас нет. Восстановить данную оценку качественно мы не можем, поэтому этого лучше вообще не делать. Можно было бы заполнить цифрой-маркером, как я это сделала с годами, но \"0\" присутствует в рейтинге, и в целом такая замена может исказить данные. \n",
    "Только 5,5% TBD приходится на последние 5 лет, а старые игры вряд ли помогут нам спланировать следующий год. \n",
    "Заменим TBD просто на NaN и будем в дальнейшем для анализа нарезать датасет с учётом отсутствующих значений.  \n"
   ]
  },
  {
   "cell_type": "code",
   "execution_count": 4,
   "metadata": {},
   "outputs": [
    {
     "name": "stdout",
     "output_type": "stream",
     "text": [
      "Not Defined    6764\n",
      "E              3990\n",
      "T              2961\n",
      "M              1563\n",
      "E10+           1420\n",
      "EC                8\n",
      "K-A               3\n",
      "RP                3\n",
      "AO                1\n",
      "Name: rating, dtype: int64\n"
     ]
    }
   ],
   "source": [
    "games = games.dropna(subset=['name']).reset_index()\n",
    "games['year_of_release'] = games['year_of_release'].fillna(0)\n",
    "games['year_of_release'] = games['year_of_release'].astype('int')\n",
    "games['user_score'] = games['user_score'].replace('tbd',).astype('float')\n",
    "games['rating'] = games['rating'].fillna('Not Defined')\n",
    "\n",
    "print(games['rating'].value_counts())"
   ]
  },
  {
   "cell_type": "markdown",
   "metadata": {},
   "source": [
    "Постараемся заполнить рейтинг пользователей максимально разумным способом. Есть игры, которые выпускались на нескольких платформах. Игра в целом хороша, но у одной из платформ нет рейтинга на нее, но есть у другой. Мы скопировали рейтинг с платформы, где он есть туда, где его нет. Чаще всего, если игра хороша, то ее портируют на другие платформы без кардинальных изменений, а значит рейтинг сохранится примерно таким же. Остальные пропуски мы не сможем заполнить, так как у нас недостаточно данных. Теоретически мы могли бы скопировать в пропуски рейтинги критиков и наоборот, но тогда наши данные стали бы некорректными, ведь далее мы хотим посмотреть зависимость продаж от рейтингов критиков и юзеров отдельно"
   ]
  },
  {
   "cell_type": "code",
   "execution_count": 5,
   "metadata": {},
   "outputs": [
    {
     "name": "stdout",
     "output_type": "stream",
     "text": [
      "Пропусков в рейтинге пользователей до заполнения 7953\n",
      "Пропусков в рейтинге пользователей после заполнения 7048\n"
     ]
    }
   ],
   "source": [
    "print('Пропусков в рейтинге пользователей до заполнения', games['user_score'].isna().sum())\n",
    "pul = games.groupby('name').agg({'user_score':'mean'}).reset_index() #создаем таблицу, где группируем по игре, считаем средний рейтинг игры по всем платформам\n",
    "pul = pul.rename(columns={'user_score': 'user'}) #переименовываем столбец, чтобы при воссоединении не дублились имена столбцов\n",
    "games = games.merge(pul, on='name', how='left') # присоединяем столбец с рейтингами к играм\n",
    "games['user_score'] = games['user_score'].fillna(games['user']) #копируем в пропуски значения рейтингов игр\n",
    "games = games.drop(['user'], axis='columns') #удаляем лишний столбец, который нам уже не нужен\n",
    "print('Пропусков в рейтинге пользователей после заполнения', games['user_score'].isna().sum())"
   ]
  },
  {
   "cell_type": "markdown",
   "metadata": {},
   "source": [
    "Взглянем на то, сколько игр выпускалось в разные года и сколько за последнее время. \n",
    "А также на то, сколько уже прожили платформы и каково среднее время их жизни. "
   ]
  },
  {
   "cell_type": "code",
   "execution_count": 6,
   "metadata": {},
   "outputs": [
    {
     "data": {
      "text/html": [
       "<div>\n",
       "<style scoped>\n",
       "    .dataframe tbody tr th:only-of-type {\n",
       "        vertical-align: middle;\n",
       "    }\n",
       "\n",
       "    .dataframe tbody tr th {\n",
       "        vertical-align: top;\n",
       "    }\n",
       "\n",
       "    .dataframe thead th {\n",
       "        text-align: right;\n",
       "    }\n",
       "</style>\n",
       "<table border=\"1\" class=\"dataframe\">\n",
       "  <thead>\n",
       "    <tr style=\"text-align: right;\">\n",
       "      <th></th>\n",
       "      <th>name</th>\n",
       "    </tr>\n",
       "    <tr>\n",
       "      <th>year_of_release</th>\n",
       "      <th></th>\n",
       "    </tr>\n",
       "  </thead>\n",
       "  <tbody>\n",
       "    <tr>\n",
       "      <th>2008</th>\n",
       "      <td>1427</td>\n",
       "    </tr>\n",
       "    <tr>\n",
       "      <th>2009</th>\n",
       "      <td>1426</td>\n",
       "    </tr>\n",
       "    <tr>\n",
       "      <th>2010</th>\n",
       "      <td>1255</td>\n",
       "    </tr>\n",
       "    <tr>\n",
       "      <th>2007</th>\n",
       "      <td>1197</td>\n",
       "    </tr>\n",
       "    <tr>\n",
       "      <th>2011</th>\n",
       "      <td>1136</td>\n",
       "    </tr>\n",
       "    <tr>\n",
       "      <th>2006</th>\n",
       "      <td>1006</td>\n",
       "    </tr>\n",
       "    <tr>\n",
       "      <th>2005</th>\n",
       "      <td>939</td>\n",
       "    </tr>\n",
       "    <tr>\n",
       "      <th>2002</th>\n",
       "      <td>829</td>\n",
       "    </tr>\n",
       "    <tr>\n",
       "      <th>2003</th>\n",
       "      <td>775</td>\n",
       "    </tr>\n",
       "    <tr>\n",
       "      <th>2004</th>\n",
       "      <td>762</td>\n",
       "    </tr>\n",
       "  </tbody>\n",
       "</table>\n",
       "</div>"
      ],
      "text/plain": [
       "                 name\n",
       "year_of_release      \n",
       "2008             1427\n",
       "2009             1426\n",
       "2010             1255\n",
       "2007             1197\n",
       "2011             1136\n",
       "2006             1006\n",
       "2005              939\n",
       "2002              829\n",
       "2003              775\n",
       "2004              762"
      ]
     },
     "metadata": {},
     "output_type": "display_data"
    },
    {
     "data": {
      "text/html": [
       "<div>\n",
       "<style scoped>\n",
       "    .dataframe tbody tr th:only-of-type {\n",
       "        vertical-align: middle;\n",
       "    }\n",
       "\n",
       "    .dataframe tbody tr th {\n",
       "        vertical-align: top;\n",
       "    }\n",
       "\n",
       "    .dataframe thead th {\n",
       "        text-align: right;\n",
       "    }\n",
       "</style>\n",
       "<table border=\"1\" class=\"dataframe\">\n",
       "  <thead>\n",
       "    <tr style=\"text-align: right;\">\n",
       "      <th></th>\n",
       "      <th>name</th>\n",
       "    </tr>\n",
       "    <tr>\n",
       "      <th>year_of_release</th>\n",
       "      <th></th>\n",
       "    </tr>\n",
       "  </thead>\n",
       "  <tbody>\n",
       "    <tr>\n",
       "      <th>2016</th>\n",
       "      <td>502</td>\n",
       "    </tr>\n",
       "    <tr>\n",
       "      <th>2015</th>\n",
       "      <td>606</td>\n",
       "    </tr>\n",
       "    <tr>\n",
       "      <th>2014</th>\n",
       "      <td>581</td>\n",
       "    </tr>\n",
       "    <tr>\n",
       "      <th>2013</th>\n",
       "      <td>544</td>\n",
       "    </tr>\n",
       "    <tr>\n",
       "      <th>2012</th>\n",
       "      <td>653</td>\n",
       "    </tr>\n",
       "    <tr>\n",
       "      <th>2011</th>\n",
       "      <td>1136</td>\n",
       "    </tr>\n",
       "    <tr>\n",
       "      <th>2010</th>\n",
       "      <td>1255</td>\n",
       "    </tr>\n",
       "    <tr>\n",
       "      <th>2009</th>\n",
       "      <td>1426</td>\n",
       "    </tr>\n",
       "    <tr>\n",
       "      <th>2008</th>\n",
       "      <td>1427</td>\n",
       "    </tr>\n",
       "    <tr>\n",
       "      <th>2007</th>\n",
       "      <td>1197</td>\n",
       "    </tr>\n",
       "  </tbody>\n",
       "</table>\n",
       "</div>"
      ],
      "text/plain": [
       "                 name\n",
       "year_of_release      \n",
       "2016              502\n",
       "2015              606\n",
       "2014              581\n",
       "2013              544\n",
       "2012              653\n",
       "2011             1136\n",
       "2010             1255\n",
       "2009             1426\n",
       "2008             1427\n",
       "2007             1197"
      ]
     },
     "metadata": {},
     "output_type": "display_data"
    },
    {
     "name": "stdout",
     "output_type": "stream",
     "text": [
      "Время жизни каждой платформы\n"
     ]
    },
    {
     "data": {
      "text/html": [
       "<div>\n",
       "<style scoped>\n",
       "    .dataframe tbody tr th:only-of-type {\n",
       "        vertical-align: middle;\n",
       "    }\n",
       "\n",
       "    .dataframe tbody tr th {\n",
       "        vertical-align: top;\n",
       "    }\n",
       "\n",
       "    .dataframe thead th {\n",
       "        text-align: right;\n",
       "    }\n",
       "</style>\n",
       "<table border=\"1\" class=\"dataframe\">\n",
       "  <thead>\n",
       "    <tr style=\"text-align: right;\">\n",
       "      <th></th>\n",
       "      <th>year_of_release</th>\n",
       "    </tr>\n",
       "    <tr>\n",
       "      <th>platform</th>\n",
       "      <th></th>\n",
       "    </tr>\n",
       "  </thead>\n",
       "  <tbody>\n",
       "    <tr>\n",
       "      <th>PC</th>\n",
       "      <td>27</td>\n",
       "    </tr>\n",
       "    <tr>\n",
       "      <th>GB</th>\n",
       "      <td>14</td>\n",
       "    </tr>\n",
       "    <tr>\n",
       "      <th>X360</th>\n",
       "      <td>13</td>\n",
       "    </tr>\n",
       "    <tr>\n",
       "      <th>PSP</th>\n",
       "      <td>13</td>\n",
       "    </tr>\n",
       "    <tr>\n",
       "      <th>PS2</th>\n",
       "      <td>13</td>\n",
       "    </tr>\n",
       "    <tr>\n",
       "      <th>NES</th>\n",
       "      <td>12</td>\n",
       "    </tr>\n",
       "    <tr>\n",
       "      <th>Wii</th>\n",
       "      <td>12</td>\n",
       "    </tr>\n",
       "    <tr>\n",
       "      <th>DS</th>\n",
       "      <td>12</td>\n",
       "    </tr>\n",
       "    <tr>\n",
       "      <th>PS3</th>\n",
       "      <td>12</td>\n",
       "    </tr>\n",
       "    <tr>\n",
       "      <th>2600</th>\n",
       "      <td>11</td>\n",
       "    </tr>\n",
       "    <tr>\n",
       "      <th>PS</th>\n",
       "      <td>11</td>\n",
       "    </tr>\n",
       "    <tr>\n",
       "      <th>XB</th>\n",
       "      <td>10</td>\n",
       "    </tr>\n",
       "    <tr>\n",
       "      <th>SNES</th>\n",
       "      <td>10</td>\n",
       "    </tr>\n",
       "    <tr>\n",
       "      <th>GBA</th>\n",
       "      <td>9</td>\n",
       "    </tr>\n",
       "    <tr>\n",
       "      <th>N64</th>\n",
       "      <td>8</td>\n",
       "    </tr>\n",
       "    <tr>\n",
       "      <th>GC</th>\n",
       "      <td>8</td>\n",
       "    </tr>\n",
       "    <tr>\n",
       "      <th>3DS</th>\n",
       "      <td>7</td>\n",
       "    </tr>\n",
       "    <tr>\n",
       "      <th>DC</th>\n",
       "      <td>7</td>\n",
       "    </tr>\n",
       "    <tr>\n",
       "      <th>PSV</th>\n",
       "      <td>7</td>\n",
       "    </tr>\n",
       "    <tr>\n",
       "      <th>SAT</th>\n",
       "      <td>6</td>\n",
       "    </tr>\n",
       "    <tr>\n",
       "      <th>GEN</th>\n",
       "      <td>5</td>\n",
       "    </tr>\n",
       "    <tr>\n",
       "      <th>WiiU</th>\n",
       "      <td>5</td>\n",
       "    </tr>\n",
       "    <tr>\n",
       "      <th>PS4</th>\n",
       "      <td>4</td>\n",
       "    </tr>\n",
       "    <tr>\n",
       "      <th>NG</th>\n",
       "      <td>4</td>\n",
       "    </tr>\n",
       "    <tr>\n",
       "      <th>XOne</th>\n",
       "      <td>4</td>\n",
       "    </tr>\n",
       "    <tr>\n",
       "      <th>WS</th>\n",
       "      <td>3</td>\n",
       "    </tr>\n",
       "    <tr>\n",
       "      <th>SCD</th>\n",
       "      <td>2</td>\n",
       "    </tr>\n",
       "    <tr>\n",
       "      <th>3DO</th>\n",
       "      <td>2</td>\n",
       "    </tr>\n",
       "    <tr>\n",
       "      <th>TG16</th>\n",
       "      <td>1</td>\n",
       "    </tr>\n",
       "    <tr>\n",
       "      <th>PCFX</th>\n",
       "      <td>1</td>\n",
       "    </tr>\n",
       "    <tr>\n",
       "      <th>GG</th>\n",
       "      <td>1</td>\n",
       "    </tr>\n",
       "  </tbody>\n",
       "</table>\n",
       "</div>"
      ],
      "text/plain": [
       "          year_of_release\n",
       "platform                 \n",
       "PC                     27\n",
       "GB                     14\n",
       "X360                   13\n",
       "PSP                    13\n",
       "PS2                    13\n",
       "NES                    12\n",
       "Wii                    12\n",
       "DS                     12\n",
       "PS3                    12\n",
       "2600                   11\n",
       "PS                     11\n",
       "XB                     10\n",
       "SNES                   10\n",
       "GBA                     9\n",
       "N64                     8\n",
       "GC                      8\n",
       "3DS                     7\n",
       "DC                      7\n",
       "PSV                     7\n",
       "SAT                     6\n",
       "GEN                     5\n",
       "WiiU                    5\n",
       "PS4                     4\n",
       "NG                      4\n",
       "XOne                    4\n",
       "WS                      3\n",
       "SCD                     2\n",
       "3DO                     2\n",
       "TG16                    1\n",
       "PCFX                    1\n",
       "GG                      1"
      ]
     },
     "metadata": {},
     "output_type": "display_data"
    },
    {
     "name": "stdout",
     "output_type": "stream",
     "text": [
      "Среднее время жизни любой платформы:  8 лет\n"
     ]
    }
   ],
   "source": [
    "games_year_of_release = games.pivot_table(index='year_of_release', values='name', aggfunc='count').sort_values(by='name', ascending=False)\n",
    "display(games_year_of_release.head(10))\n",
    "display(games_year_of_release.sort_values(by='year_of_release', ascending=False).head(10))\n",
    "games_year_mean = games.pivot_table(index='platform', values='year_of_release', aggfunc=pd.Series.nunique).sort_values(by='year_of_release', ascending=False)\n",
    "print('Время жизни каждой платформы')\n",
    "display(games_year_mean)\n",
    "print('Среднее время жизни любой платформы: ', round(games_year_mean['year_of_release'].mean()), 'лет')"
   ]
  },
  {
   "cell_type": "markdown",
   "metadata": {},
   "source": [
    "Добавим суммарные продажи по всем регионам."
   ]
  },
  {
   "cell_type": "code",
   "execution_count": 7,
   "metadata": {},
   "outputs": [
    {
     "data": {
      "text/html": [
       "<div>\n",
       "<style scoped>\n",
       "    .dataframe tbody tr th:only-of-type {\n",
       "        vertical-align: middle;\n",
       "    }\n",
       "\n",
       "    .dataframe tbody tr th {\n",
       "        vertical-align: top;\n",
       "    }\n",
       "\n",
       "    .dataframe thead th {\n",
       "        text-align: right;\n",
       "    }\n",
       "</style>\n",
       "<table border=\"1\" class=\"dataframe\">\n",
       "  <thead>\n",
       "    <tr style=\"text-align: right;\">\n",
       "      <th></th>\n",
       "      <th>index</th>\n",
       "      <th>platform</th>\n",
       "      <th>total_sales</th>\n",
       "      <th>dispersion</th>\n",
       "      <th>std</th>\n",
       "    </tr>\n",
       "  </thead>\n",
       "  <tbody>\n",
       "    <tr>\n",
       "      <th>0</th>\n",
       "      <td>5</td>\n",
       "      <td>GB</td>\n",
       "      <td>255.46</td>\n",
       "      <td>28.788352</td>\n",
       "      <td>5.365478</td>\n",
       "    </tr>\n",
       "    <tr>\n",
       "      <th>1</th>\n",
       "      <td>11</td>\n",
       "      <td>NES</td>\n",
       "      <td>251.05</td>\n",
       "      <td>26.091786</td>\n",
       "      <td>5.108012</td>\n",
       "    </tr>\n",
       "    <tr>\n",
       "      <th>2</th>\n",
       "      <td>26</td>\n",
       "      <td>Wii</td>\n",
       "      <td>907.51</td>\n",
       "      <td>9.775681</td>\n",
       "      <td>3.126609</td>\n",
       "    </tr>\n",
       "    <tr>\n",
       "      <th>3</th>\n",
       "      <td>23</td>\n",
       "      <td>SNES</td>\n",
       "      <td>200.04</td>\n",
       "      <td>3.494913</td>\n",
       "      <td>1.869469</td>\n",
       "    </tr>\n",
       "    <tr>\n",
       "      <th>4</th>\n",
       "      <td>28</td>\n",
       "      <td>X360</td>\n",
       "      <td>971.42</td>\n",
       "      <td>2.610403</td>\n",
       "      <td>1.615674</td>\n",
       "    </tr>\n",
       "    <tr>\n",
       "      <th>5</th>\n",
       "      <td>18</td>\n",
       "      <td>PS4</td>\n",
       "      <td>314.14</td>\n",
       "      <td>2.590350</td>\n",
       "      <td>1.609456</td>\n",
       "    </tr>\n",
       "    <tr>\n",
       "      <th>6</th>\n",
       "      <td>8</td>\n",
       "      <td>GEN</td>\n",
       "      <td>28.35</td>\n",
       "      <td>2.220223</td>\n",
       "      <td>1.490041</td>\n",
       "    </tr>\n",
       "    <tr>\n",
       "      <th>7</th>\n",
       "      <td>2</td>\n",
       "      <td>3DS</td>\n",
       "      <td>259.00</td>\n",
       "      <td>2.047406</td>\n",
       "      <td>1.430876</td>\n",
       "    </tr>\n",
       "    <tr>\n",
       "      <th>8</th>\n",
       "      <td>4</td>\n",
       "      <td>DS</td>\n",
       "      <td>806.12</td>\n",
       "      <td>2.034764</td>\n",
       "      <td>1.426451</td>\n",
       "    </tr>\n",
       "    <tr>\n",
       "      <th>9</th>\n",
       "      <td>17</td>\n",
       "      <td>PS3</td>\n",
       "      <td>939.65</td>\n",
       "      <td>1.936966</td>\n",
       "      <td>1.391749</td>\n",
       "    </tr>\n",
       "    <tr>\n",
       "      <th>10</th>\n",
       "      <td>10</td>\n",
       "      <td>N64</td>\n",
       "      <td>218.68</td>\n",
       "      <td>1.733785</td>\n",
       "      <td>1.316733</td>\n",
       "    </tr>\n",
       "    <tr>\n",
       "      <th>11</th>\n",
       "      <td>16</td>\n",
       "      <td>PS2</td>\n",
       "      <td>1255.77</td>\n",
       "      <td>1.294878</td>\n",
       "      <td>1.137927</td>\n",
       "    </tr>\n",
       "    <tr>\n",
       "      <th>12</th>\n",
       "      <td>27</td>\n",
       "      <td>WiiU</td>\n",
       "      <td>82.19</td>\n",
       "      <td>1.121133</td>\n",
       "      <td>1.058836</td>\n",
       "    </tr>\n",
       "    <tr>\n",
       "      <th>13</th>\n",
       "      <td>15</td>\n",
       "      <td>PS</td>\n",
       "      <td>730.86</td>\n",
       "      <td>1.111973</td>\n",
       "      <td>1.054502</td>\n",
       "    </tr>\n",
       "    <tr>\n",
       "      <th>14</th>\n",
       "      <td>30</td>\n",
       "      <td>XOne</td>\n",
       "      <td>159.32</td>\n",
       "      <td>1.073584</td>\n",
       "      <td>1.036139</td>\n",
       "    </tr>\n",
       "    <tr>\n",
       "      <th>15</th>\n",
       "      <td>0</td>\n",
       "      <td>2600</td>\n",
       "      <td>96.98</td>\n",
       "      <td>0.842355</td>\n",
       "      <td>0.917799</td>\n",
       "    </tr>\n",
       "    <tr>\n",
       "      <th>16</th>\n",
       "      <td>6</td>\n",
       "      <td>GBA</td>\n",
       "      <td>317.85</td>\n",
       "      <td>0.804423</td>\n",
       "      <td>0.896897</td>\n",
       "    </tr>\n",
       "    <tr>\n",
       "      <th>17</th>\n",
       "      <td>7</td>\n",
       "      <td>GC</td>\n",
       "      <td>198.93</td>\n",
       "      <td>0.471071</td>\n",
       "      <td>0.686346</td>\n",
       "    </tr>\n",
       "    <tr>\n",
       "      <th>18</th>\n",
       "      <td>13</td>\n",
       "      <td>PC</td>\n",
       "      <td>259.52</td>\n",
       "      <td>0.456404</td>\n",
       "      <td>0.675577</td>\n",
       "    </tr>\n",
       "    <tr>\n",
       "      <th>19</th>\n",
       "      <td>22</td>\n",
       "      <td>SCD</td>\n",
       "      <td>1.86</td>\n",
       "      <td>0.341120</td>\n",
       "      <td>0.584055</td>\n",
       "    </tr>\n",
       "    <tr>\n",
       "      <th>20</th>\n",
       "      <td>29</td>\n",
       "      <td>XB</td>\n",
       "      <td>257.74</td>\n",
       "      <td>0.286002</td>\n",
       "      <td>0.534791</td>\n",
       "    </tr>\n",
       "    <tr>\n",
       "      <th>21</th>\n",
       "      <td>19</td>\n",
       "      <td>PSP</td>\n",
       "      <td>294.05</td>\n",
       "      <td>0.270618</td>\n",
       "      <td>0.520210</td>\n",
       "    </tr>\n",
       "    <tr>\n",
       "      <th>22</th>\n",
       "      <td>3</td>\n",
       "      <td>DC</td>\n",
       "      <td>15.95</td>\n",
       "      <td>0.219642</td>\n",
       "      <td>0.468660</td>\n",
       "    </tr>\n",
       "    <tr>\n",
       "      <th>23</th>\n",
       "      <td>21</td>\n",
       "      <td>SAT</td>\n",
       "      <td>33.59</td>\n",
       "      <td>0.047564</td>\n",
       "      <td>0.218092</td>\n",
       "    </tr>\n",
       "    <tr>\n",
       "      <th>24</th>\n",
       "      <td>20</td>\n",
       "      <td>PSV</td>\n",
       "      <td>54.07</td>\n",
       "      <td>0.045026</td>\n",
       "      <td>0.212193</td>\n",
       "    </tr>\n",
       "    <tr>\n",
       "      <th>25</th>\n",
       "      <td>25</td>\n",
       "      <td>WS</td>\n",
       "      <td>1.42</td>\n",
       "      <td>0.025427</td>\n",
       "      <td>0.159457</td>\n",
       "    </tr>\n",
       "    <tr>\n",
       "      <th>26</th>\n",
       "      <td>24</td>\n",
       "      <td>TG16</td>\n",
       "      <td>0.16</td>\n",
       "      <td>0.007200</td>\n",
       "      <td>0.084853</td>\n",
       "    </tr>\n",
       "    <tr>\n",
       "      <th>27</th>\n",
       "      <td>12</td>\n",
       "      <td>NG</td>\n",
       "      <td>1.44</td>\n",
       "      <td>0.006764</td>\n",
       "      <td>0.082241</td>\n",
       "    </tr>\n",
       "    <tr>\n",
       "      <th>28</th>\n",
       "      <td>1</td>\n",
       "      <td>3DO</td>\n",
       "      <td>0.10</td>\n",
       "      <td>0.000533</td>\n",
       "      <td>0.023094</td>\n",
       "    </tr>\n",
       "    <tr>\n",
       "      <th>29</th>\n",
       "      <td>9</td>\n",
       "      <td>GG</td>\n",
       "      <td>0.04</td>\n",
       "      <td>NaN</td>\n",
       "      <td>NaN</td>\n",
       "    </tr>\n",
       "    <tr>\n",
       "      <th>30</th>\n",
       "      <td>14</td>\n",
       "      <td>PCFX</td>\n",
       "      <td>0.03</td>\n",
       "      <td>NaN</td>\n",
       "      <td>NaN</td>\n",
       "    </tr>\n",
       "  </tbody>\n",
       "</table>\n",
       "</div>"
      ],
      "text/plain": [
       "    index platform  total_sales  dispersion       std\n",
       "0       5       GB       255.46   28.788352  5.365478\n",
       "1      11      NES       251.05   26.091786  5.108012\n",
       "2      26      Wii       907.51    9.775681  3.126609\n",
       "3      23     SNES       200.04    3.494913  1.869469\n",
       "4      28     X360       971.42    2.610403  1.615674\n",
       "5      18      PS4       314.14    2.590350  1.609456\n",
       "6       8      GEN        28.35    2.220223  1.490041\n",
       "7       2      3DS       259.00    2.047406  1.430876\n",
       "8       4       DS       806.12    2.034764  1.426451\n",
       "9      17      PS3       939.65    1.936966  1.391749\n",
       "10     10      N64       218.68    1.733785  1.316733\n",
       "11     16      PS2      1255.77    1.294878  1.137927\n",
       "12     27     WiiU        82.19    1.121133  1.058836\n",
       "13     15       PS       730.86    1.111973  1.054502\n",
       "14     30     XOne       159.32    1.073584  1.036139\n",
       "15      0     2600        96.98    0.842355  0.917799\n",
       "16      6      GBA       317.85    0.804423  0.896897\n",
       "17      7       GC       198.93    0.471071  0.686346\n",
       "18     13       PC       259.52    0.456404  0.675577\n",
       "19     22      SCD         1.86    0.341120  0.584055\n",
       "20     29       XB       257.74    0.286002  0.534791\n",
       "21     19      PSP       294.05    0.270618  0.520210\n",
       "22      3       DC        15.95    0.219642  0.468660\n",
       "23     21      SAT        33.59    0.047564  0.218092\n",
       "24     20      PSV        54.07    0.045026  0.212193\n",
       "25     25       WS         1.42    0.025427  0.159457\n",
       "26     24     TG16         0.16    0.007200  0.084853\n",
       "27     12       NG         1.44    0.006764  0.082241\n",
       "28      1      3DO         0.10    0.000533  0.023094\n",
       "29      9       GG         0.04         NaN       NaN\n",
       "30     14     PCFX         0.03         NaN       NaN"
      ]
     },
     "metadata": {},
     "output_type": "display_data"
    }
   ],
   "source": [
    "games['total_sales'] = games['other_sales']+games['jp_sales']+games['eu_sales']+games['na_sales']\n",
    "games_plat = games.groupby('platform').agg({'total_sales':'sum'}).reset_index()\n",
    "games_plat1 = games.groupby('platform').agg({'total_sales':'var'}).reset_index()\n",
    "games_plat2 = games.groupby('platform').agg({'total_sales':'std'}).reset_index()\n",
    "games_plat = games_plat.merge(games_plat1, on='platform', how='left').merge(games_plat2, on='platform', how='left').sort_values(by='total_sales', ascending=False)\n",
    "games_plat = games_plat.rename(columns={'total_sales_x': 'total_sales', 'total_sales_y': 'dispersion', 'total_sales': 'std'}).reset_index()\n",
    "display(games_plat)"
   ]
  },
  {
   "cell_type": "markdown",
   "metadata": {},
   "source": [
    "Посмотрели продажи по платформам за все время. Очевидно, что нам нужно отсеить старые платформы, которые неактуальные. Возьмем данные от 2014г и выше, т.к. именно начиная с этого года индустрия игр шагнула вперед. Данные за 3 года - это тот самый период, который для нас максимально актуален. Период обновления платформ обычно составляет 3-5 лет в зависимости от платформы. Мы выберем 3 года, т.к. игровая индустрия - штука изменчивая, и нам нельзя прогадать, если будет смотреть на старые данные. Данных за 3 года нам должно хватить. Ниже мы проверим это на платформах."
   ]
  },
  {
   "cell_type": "code",
   "execution_count": 8,
   "metadata": {},
   "outputs": [
    {
     "data": {
      "text/html": [
       "<div>\n",
       "<style scoped>\n",
       "    .dataframe tbody tr th:only-of-type {\n",
       "        vertical-align: middle;\n",
       "    }\n",
       "\n",
       "    .dataframe tbody tr th {\n",
       "        vertical-align: top;\n",
       "    }\n",
       "\n",
       "    .dataframe thead th {\n",
       "        text-align: right;\n",
       "    }\n",
       "</style>\n",
       "<table border=\"1\" class=\"dataframe\">\n",
       "  <thead>\n",
       "    <tr style=\"text-align: right;\">\n",
       "      <th></th>\n",
       "      <th>platform</th>\n",
       "      <th>total_sales</th>\n",
       "      <th>dispersion</th>\n",
       "      <th>std</th>\n",
       "    </tr>\n",
       "  </thead>\n",
       "  <tbody>\n",
       "    <tr>\n",
       "      <th>0</th>\n",
       "      <td>PS4</td>\n",
       "      <td>288.15</td>\n",
       "      <td>2.608124</td>\n",
       "      <td>1.614969</td>\n",
       "    </tr>\n",
       "    <tr>\n",
       "      <th>1</th>\n",
       "      <td>XOne</td>\n",
       "      <td>140.36</td>\n",
       "      <td>1.095189</td>\n",
       "      <td>1.046513</td>\n",
       "    </tr>\n",
       "    <tr>\n",
       "      <th>2</th>\n",
       "      <td>3DS</td>\n",
       "      <td>86.68</td>\n",
       "      <td>1.412219</td>\n",
       "      <td>1.188368</td>\n",
       "    </tr>\n",
       "    <tr>\n",
       "      <th>3</th>\n",
       "      <td>PS3</td>\n",
       "      <td>68.18</td>\n",
       "      <td>0.400764</td>\n",
       "      <td>0.633059</td>\n",
       "    </tr>\n",
       "    <tr>\n",
       "      <th>4</th>\n",
       "      <td>X360</td>\n",
       "      <td>48.22</td>\n",
       "      <td>0.395599</td>\n",
       "      <td>0.628967</td>\n",
       "    </tr>\n",
       "    <tr>\n",
       "      <th>5</th>\n",
       "      <td>WiiU</td>\n",
       "      <td>42.98</td>\n",
       "      <td>1.349005</td>\n",
       "      <td>1.161467</td>\n",
       "    </tr>\n",
       "    <tr>\n",
       "      <th>6</th>\n",
       "      <td>PC</td>\n",
       "      <td>27.05</td>\n",
       "      <td>0.108477</td>\n",
       "      <td>0.329359</td>\n",
       "    </tr>\n",
       "    <tr>\n",
       "      <th>7</th>\n",
       "      <td>PSV</td>\n",
       "      <td>22.40</td>\n",
       "      <td>0.020048</td>\n",
       "      <td>0.141591</td>\n",
       "    </tr>\n",
       "    <tr>\n",
       "      <th>8</th>\n",
       "      <td>Wii</td>\n",
       "      <td>5.07</td>\n",
       "      <td>0.391189</td>\n",
       "      <td>0.625451</td>\n",
       "    </tr>\n",
       "    <tr>\n",
       "      <th>9</th>\n",
       "      <td>PSP</td>\n",
       "      <td>0.36</td>\n",
       "      <td>0.000769</td>\n",
       "      <td>0.027735</td>\n",
       "    </tr>\n",
       "  </tbody>\n",
       "</table>\n",
       "</div>"
      ],
      "text/plain": [
       "  platform  total_sales  dispersion       std\n",
       "0      PS4       288.15    2.608124  1.614969\n",
       "1     XOne       140.36    1.095189  1.046513\n",
       "2      3DS        86.68    1.412219  1.188368\n",
       "3      PS3        68.18    0.400764  0.633059\n",
       "4     X360        48.22    0.395599  0.628967\n",
       "5     WiiU        42.98    1.349005  1.161467\n",
       "6       PC        27.05    0.108477  0.329359\n",
       "7      PSV        22.40    0.020048  0.141591\n",
       "8      Wii         5.07    0.391189  0.625451\n",
       "9      PSP         0.36    0.000769  0.027735"
      ]
     },
     "metadata": {},
     "output_type": "display_data"
    },
    {
     "data": {
      "image/png": "[encoded data removed]",
      "text/plain": [
       "<Figure size 504x432 with 1 Axes>"
      ]
     },
     "metadata": {},
     "output_type": "display_data"
    }
   ],
   "source": [
    "games_plat_sale = games.query('year_of_release >= 2014').groupby(['platform']).agg({'total_sales':'sum'}).reset_index().sort_values(by='total_sales', ascending=False)\n",
    "games_plat3 = games.query('year_of_release >= 2014').groupby('platform').agg({'total_sales':'var'}).reset_index()\n",
    "games_plat4 = games.query('year_of_release >= 2014').groupby('platform').agg({'total_sales':'std'}).reset_index()\n",
    "games_plat_sale = games_plat_sale.merge(games_plat3, on='platform', how='left').merge(games_plat4, on='platform', how='left')\n",
    "games_plat_sale = games_plat_sale.rename(columns={'total_sales_x': 'total_sales', 'total_sales_y': 'dispersion', 'total_sales': 'std'})\n",
    "display(games_plat_sale.sort_values(by='total_sales', ascending=False))\n",
    "games_plat_sale = games_plat_sale.head(8)\n",
    "games_plat_sale.plot(x='platform', y='total_sales', kind = 'pie', labels = games_plat_sale['platform'], title = 'Продажи по самым свежим платформам', autopct='%1.1f%%', legend = False, grid=True, figsize=(7, 6))\n",
    "plt.show()"
   ]
  },
  {
   "cell_type": "markdown",
   "metadata": {},
   "source": [
    "Убедились, что взяли верный период, т.к. старые платформы, типа psp и wii уже давно изжили себя, продажи не идут в сравнение с такими мастадонтами, как платформы от Microsoft и Sony. У Нинтендо как раз вышла новая 3ds, наглядно видно, что компания поддерживает платформу играми, продажи на хорошем уровне. Очевидно, что начиная с продаж платформы WII , количество продаж начинает резко снижаться, поэтому мы возьмем в рассмотрение только первые 8"
   ]
  },
  {
   "cell_type": "markdown",
   "metadata": {},
   "source": [
    "## Анализ данных"
   ]
  },
  {
   "cell_type": "markdown",
   "metadata": {},
   "source": [
    "Оставим данные только по тем платформам и по тем годам, которые мы определили на предыдущих шагах"
   ]
  },
  {
   "cell_type": "code",
   "execution_count": 9,
   "metadata": {},
   "outputs": [
    {
     "data": {
      "text/html": [
       "<div>\n",
       "<style scoped>\n",
       "    .dataframe tbody tr th:only-of-type {\n",
       "        vertical-align: middle;\n",
       "    }\n",
       "\n",
       "    .dataframe tbody tr th {\n",
       "        vertical-align: top;\n",
       "    }\n",
       "\n",
       "    .dataframe thead th {\n",
       "        text-align: right;\n",
       "    }\n",
       "</style>\n",
       "<table border=\"1\" class=\"dataframe\">\n",
       "  <thead>\n",
       "    <tr style=\"text-align: right;\">\n",
       "      <th></th>\n",
       "      <th>index</th>\n",
       "      <th>name</th>\n",
       "      <th>platform</th>\n",
       "      <th>year_of_release</th>\n",
       "      <th>genre</th>\n",
       "      <th>na_sales</th>\n",
       "      <th>eu_sales</th>\n",
       "      <th>jp_sales</th>\n",
       "      <th>other_sales</th>\n",
       "      <th>critic_score</th>\n",
       "      <th>user_score</th>\n",
       "      <th>rating</th>\n",
       "      <th>total_sales</th>\n",
       "    </tr>\n",
       "  </thead>\n",
       "  <tbody>\n",
       "    <tr>\n",
       "      <th>31</th>\n",
       "      <td>31</td>\n",
       "      <td>Call of Duty: Black Ops 3</td>\n",
       "      <td>PS4</td>\n",
       "      <td>2015</td>\n",
       "      <td>Shooter</td>\n",
       "      <td>6.03</td>\n",
       "      <td>5.86</td>\n",
       "      <td>0.36</td>\n",
       "      <td>2.38</td>\n",
       "      <td>NaN</td>\n",
       "      <td>NaN</td>\n",
       "      <td>Not Defined</td>\n",
       "      <td>14.63</td>\n",
       "    </tr>\n",
       "    <tr>\n",
       "      <th>42</th>\n",
       "      <td>42</td>\n",
       "      <td>Grand Theft Auto V</td>\n",
       "      <td>PS4</td>\n",
       "      <td>2014</td>\n",
       "      <td>Action</td>\n",
       "      <td>3.96</td>\n",
       "      <td>6.31</td>\n",
       "      <td>0.38</td>\n",
       "      <td>1.97</td>\n",
       "      <td>97.0</td>\n",
       "      <td>8.3</td>\n",
       "      <td>M</td>\n",
       "      <td>12.62</td>\n",
       "    </tr>\n",
       "    <tr>\n",
       "      <th>47</th>\n",
       "      <td>47</td>\n",
       "      <td>Pokemon Omega Ruby/Pokemon Alpha Sapphire</td>\n",
       "      <td>3DS</td>\n",
       "      <td>2014</td>\n",
       "      <td>Role-Playing</td>\n",
       "      <td>4.35</td>\n",
       "      <td>3.49</td>\n",
       "      <td>3.10</td>\n",
       "      <td>0.74</td>\n",
       "      <td>NaN</td>\n",
       "      <td>NaN</td>\n",
       "      <td>Not Defined</td>\n",
       "      <td>11.68</td>\n",
       "    </tr>\n",
       "    <tr>\n",
       "      <th>77</th>\n",
       "      <td>77</td>\n",
       "      <td>FIFA 16</td>\n",
       "      <td>PS4</td>\n",
       "      <td>2015</td>\n",
       "      <td>Sports</td>\n",
       "      <td>1.12</td>\n",
       "      <td>6.12</td>\n",
       "      <td>0.06</td>\n",
       "      <td>1.28</td>\n",
       "      <td>82.0</td>\n",
       "      <td>4.3</td>\n",
       "      <td>E</td>\n",
       "      <td>8.58</td>\n",
       "    </tr>\n",
       "    <tr>\n",
       "      <th>87</th>\n",
       "      <td>87</td>\n",
       "      <td>Star Wars Battlefront (2015)</td>\n",
       "      <td>PS4</td>\n",
       "      <td>2015</td>\n",
       "      <td>Shooter</td>\n",
       "      <td>2.99</td>\n",
       "      <td>3.49</td>\n",
       "      <td>0.22</td>\n",
       "      <td>1.28</td>\n",
       "      <td>NaN</td>\n",
       "      <td>NaN</td>\n",
       "      <td>Not Defined</td>\n",
       "      <td>7.98</td>\n",
       "    </tr>\n",
       "    <tr>\n",
       "      <th>...</th>\n",
       "      <td>...</td>\n",
       "      <td>...</td>\n",
       "      <td>...</td>\n",
       "      <td>...</td>\n",
       "      <td>...</td>\n",
       "      <td>...</td>\n",
       "      <td>...</td>\n",
       "      <td>...</td>\n",
       "      <td>...</td>\n",
       "      <td>...</td>\n",
       "      <td>...</td>\n",
       "      <td>...</td>\n",
       "      <td>...</td>\n",
       "    </tr>\n",
       "    <tr>\n",
       "      <th>16701</th>\n",
       "      <td>16703</td>\n",
       "      <td>Strawberry Nauts</td>\n",
       "      <td>PSV</td>\n",
       "      <td>2016</td>\n",
       "      <td>Adventure</td>\n",
       "      <td>0.00</td>\n",
       "      <td>0.00</td>\n",
       "      <td>0.01</td>\n",
       "      <td>0.00</td>\n",
       "      <td>NaN</td>\n",
       "      <td>NaN</td>\n",
       "      <td>Not Defined</td>\n",
       "      <td>0.01</td>\n",
       "    </tr>\n",
       "    <tr>\n",
       "      <th>16705</th>\n",
       "      <td>16707</td>\n",
       "      <td>Aiyoku no Eustia</td>\n",
       "      <td>PSV</td>\n",
       "      <td>2014</td>\n",
       "      <td>Misc</td>\n",
       "      <td>0.00</td>\n",
       "      <td>0.00</td>\n",
       "      <td>0.01</td>\n",
       "      <td>0.00</td>\n",
       "      <td>NaN</td>\n",
       "      <td>NaN</td>\n",
       "      <td>Not Defined</td>\n",
       "      <td>0.01</td>\n",
       "    </tr>\n",
       "    <tr>\n",
       "      <th>16708</th>\n",
       "      <td>16710</td>\n",
       "      <td>Samurai Warriors: Sanada Maru</td>\n",
       "      <td>PS3</td>\n",
       "      <td>2016</td>\n",
       "      <td>Action</td>\n",
       "      <td>0.00</td>\n",
       "      <td>0.00</td>\n",
       "      <td>0.01</td>\n",
       "      <td>0.00</td>\n",
       "      <td>NaN</td>\n",
       "      <td>NaN</td>\n",
       "      <td>Not Defined</td>\n",
       "      <td>0.01</td>\n",
       "    </tr>\n",
       "    <tr>\n",
       "      <th>16710</th>\n",
       "      <td>16712</td>\n",
       "      <td>Haitaka no Psychedelica</td>\n",
       "      <td>PSV</td>\n",
       "      <td>2016</td>\n",
       "      <td>Adventure</td>\n",
       "      <td>0.00</td>\n",
       "      <td>0.00</td>\n",
       "      <td>0.01</td>\n",
       "      <td>0.00</td>\n",
       "      <td>NaN</td>\n",
       "      <td>NaN</td>\n",
       "      <td>Not Defined</td>\n",
       "      <td>0.01</td>\n",
       "    </tr>\n",
       "    <tr>\n",
       "      <th>16712</th>\n",
       "      <td>16714</td>\n",
       "      <td>Winning Post 8 2016</td>\n",
       "      <td>PSV</td>\n",
       "      <td>2016</td>\n",
       "      <td>Simulation</td>\n",
       "      <td>0.00</td>\n",
       "      <td>0.00</td>\n",
       "      <td>0.01</td>\n",
       "      <td>0.00</td>\n",
       "      <td>NaN</td>\n",
       "      <td>NaN</td>\n",
       "      <td>Not Defined</td>\n",
       "      <td>0.01</td>\n",
       "    </tr>\n",
       "  </tbody>\n",
       "</table>\n",
       "<p>1665 rows × 13 columns</p>\n",
       "</div>"
      ],
      "text/plain": [
       "       index                                       name platform  \\\n",
       "31        31                  Call of Duty: Black Ops 3      PS4   \n",
       "42        42                         Grand Theft Auto V      PS4   \n",
       "47        47  Pokemon Omega Ruby/Pokemon Alpha Sapphire      3DS   \n",
       "77        77                                    FIFA 16      PS4   \n",
       "87        87               Star Wars Battlefront (2015)      PS4   \n",
       "...      ...                                        ...      ...   \n",
       "16701  16703                           Strawberry Nauts      PSV   \n",
       "16705  16707                           Aiyoku no Eustia      PSV   \n",
       "16708  16710              Samurai Warriors: Sanada Maru      PS3   \n",
       "16710  16712                    Haitaka no Psychedelica      PSV   \n",
       "16712  16714                        Winning Post 8 2016      PSV   \n",
       "\n",
       "       year_of_release         genre  na_sales  eu_sales  jp_sales  \\\n",
       "31                2015       Shooter      6.03      5.86      0.36   \n",
       "42                2014        Action      3.96      6.31      0.38   \n",
       "47                2014  Role-Playing      4.35      3.49      3.10   \n",
       "77                2015        Sports      1.12      6.12      0.06   \n",
       "87                2015       Shooter      2.99      3.49      0.22   \n",
       "...                ...           ...       ...       ...       ...   \n",
       "16701             2016     Adventure      0.00      0.00      0.01   \n",
       "16705             2014          Misc      0.00      0.00      0.01   \n",
       "16708             2016        Action      0.00      0.00      0.01   \n",
       "16710             2016     Adventure      0.00      0.00      0.01   \n",
       "16712             2016    Simulation      0.00      0.00      0.01   \n",
       "\n",
       "       other_sales  critic_score  user_score       rating  total_sales  \n",
       "31            2.38           NaN         NaN  Not Defined        14.63  \n",
       "42            1.97          97.0         8.3            M        12.62  \n",
       "47            0.74           NaN         NaN  Not Defined        11.68  \n",
       "77            1.28          82.0         4.3            E         8.58  \n",
       "87            1.28           NaN         NaN  Not Defined         7.98  \n",
       "...            ...           ...         ...          ...          ...  \n",
       "16701         0.00           NaN         NaN  Not Defined         0.01  \n",
       "16705         0.00           NaN         NaN  Not Defined         0.01  \n",
       "16708         0.00           NaN         NaN  Not Defined         0.01  \n",
       "16710         0.00           NaN         NaN  Not Defined         0.01  \n",
       "16712         0.00           NaN         NaN  Not Defined         0.01  \n",
       "\n",
       "[1665 rows x 13 columns]"
      ]
     },
     "metadata": {},
     "output_type": "display_data"
    }
   ],
   "source": [
    "games_new = games.query('platform in @games_plat_sale.platform and year_of_release >= 2014')\n",
    "display(games_new)"
   ]
  },
  {
   "cell_type": "code",
   "execution_count": 10,
   "metadata": {},
   "outputs": [
    {
     "data": {
      "text/html": [
       "<div>\n",
       "<style scoped>\n",
       "    .dataframe tbody tr th:only-of-type {\n",
       "        vertical-align: middle;\n",
       "    }\n",
       "\n",
       "    .dataframe tbody tr th {\n",
       "        vertical-align: top;\n",
       "    }\n",
       "\n",
       "    .dataframe thead th {\n",
       "        text-align: right;\n",
       "    }\n",
       "</style>\n",
       "<table border=\"1\" class=\"dataframe\">\n",
       "  <thead>\n",
       "    <tr style=\"text-align: right;\">\n",
       "      <th>platform</th>\n",
       "      <th>3DS</th>\n",
       "      <th>PC</th>\n",
       "      <th>PS3</th>\n",
       "      <th>PS4</th>\n",
       "      <th>PSV</th>\n",
       "      <th>WiiU</th>\n",
       "      <th>X360</th>\n",
       "      <th>XOne</th>\n",
       "    </tr>\n",
       "    <tr>\n",
       "      <th>year_of_release</th>\n",
       "      <th></th>\n",
       "      <th></th>\n",
       "      <th></th>\n",
       "      <th></th>\n",
       "      <th></th>\n",
       "      <th></th>\n",
       "      <th></th>\n",
       "      <th></th>\n",
       "    </tr>\n",
       "  </thead>\n",
       "  <tbody>\n",
       "    <tr>\n",
       "      <th>2016</th>\n",
       "      <td>15.14</td>\n",
       "      <td>5.25</td>\n",
       "      <td>3.60</td>\n",
       "      <td>69.25</td>\n",
       "      <td>4.25</td>\n",
       "      <td>4.60</td>\n",
       "      <td>1.52</td>\n",
       "      <td>26.15</td>\n",
       "    </tr>\n",
       "    <tr>\n",
       "      <th>2015</th>\n",
       "      <td>27.78</td>\n",
       "      <td>8.52</td>\n",
       "      <td>16.82</td>\n",
       "      <td>118.90</td>\n",
       "      <td>6.25</td>\n",
       "      <td>16.35</td>\n",
       "      <td>11.96</td>\n",
       "      <td>60.14</td>\n",
       "    </tr>\n",
       "    <tr>\n",
       "      <th>2014</th>\n",
       "      <td>43.76</td>\n",
       "      <td>13.28</td>\n",
       "      <td>47.76</td>\n",
       "      <td>100.00</td>\n",
       "      <td>11.90</td>\n",
       "      <td>22.03</td>\n",
       "      <td>34.74</td>\n",
       "      <td>54.07</td>\n",
       "    </tr>\n",
       "  </tbody>\n",
       "</table>\n",
       "</div>"
      ],
      "text/plain": [
       "platform           3DS     PC    PS3     PS4    PSV   WiiU   X360   XOne\n",
       "year_of_release                                                         \n",
       "2016             15.14   5.25   3.60   69.25   4.25   4.60   1.52  26.15\n",
       "2015             27.78   8.52  16.82  118.90   6.25  16.35  11.96  60.14\n",
       "2014             43.76  13.28  47.76  100.00  11.90  22.03  34.74  54.07"
      ]
     },
     "metadata": {},
     "output_type": "display_data"
    },
    {
     "data": {
      "image/png": "[encoded data removed]",
      "text/plain": [
       "<Figure size 432x288 with 1 Axes>"
      ]
     },
     "metadata": {
      "needs_background": "light"
     },
     "output_type": "display_data"
    }
   ],
   "source": [
    "games_new1 = games_new.pivot_table(index='year_of_release', columns='platform', values='total_sales', aggfunc=sum).sort_values(by='year_of_release', ascending=False)\n",
    "display(games_new1)\n",
    "games_new1.plot()\n",
    "plt.title('Продажи платформ по годам')\n",
    "plt.ylabel('Совокупные продажи')\n",
    "plt.show()"
   ]
  },
  {
   "cell_type": "markdown",
   "metadata": {},
   "source": [
    "Посмотрели продажи по популярным платформам. Очевидно PS (на тот период времени) собирает больше всего продаж. Далее идёт её извечный конкурент Microsoft со своими Xбоксами. И замыкает список также очень популярная платформа от Nitendo"
   ]
  },
  {
   "cell_type": "code",
   "execution_count": 11,
   "metadata": {
    "scrolled": true
   },
   "outputs": [
    {
     "data": {
      "image/png": "[encoded data removed]",
      "text/plain": [
       "<Figure size 1080x504 with 1 Axes>"
      ]
     },
     "metadata": {
      "needs_background": "light"
     },
     "output_type": "display_data"
    }
   ],
   "source": [
    "plt.figure(figsize = (15,7))\n",
    "florr_plot = sns.boxplot(x='platform', y='total_sales', data=games_new)\n",
    "florr_plot.set_ylim([0, 9])\n",
    "plt.show()"
   ]
  },
  {
   "cell_type": "code",
   "execution_count": 12,
   "metadata": {},
   "outputs": [
    {
     "data": {
      "image/png": "[encoded data removed]",
      "text/plain": [
       "<Figure size 432x288 with 1 Axes>"
      ]
     },
     "metadata": {
      "needs_background": "light"
     },
     "output_type": "display_data"
    }
   ],
   "source": [
    "games_new.pivot_table(index='platform', values='total_sales', aggfunc='mean').sort_values(by='total_sales', ascending=False).plot(kind='bar')\n",
    "plt.title('Продажи игр на платформах')\n",
    "plt.show()"
   ]
  },
  {
   "cell_type": "markdown",
   "metadata": {},
   "source": [
    "Игры на платформах PS4, XOne, WiiU хорошо продаются. Данные по сумме отличаются от средних, но не кардинально. Самые популярные платформы чётко видны на обоих графиках. Можно сделать предположение, что если игра популярна, то она будет иметь хорошие продажи на всех платформах.  "
   ]
  },
  {
   "cell_type": "code",
   "execution_count": 13,
   "metadata": {},
   "outputs": [
    {
     "name": "stdout",
     "output_type": "stream",
     "text": [
      "Продажи и отзывы внутри PS4\n",
      "              critic_score  user_score  total_sales\n",
      "critic_score      1.000000    0.541545     0.402661\n",
      "user_score        0.541545    1.000000    -0.021536\n",
      "total_sales       0.402661   -0.021536     1.000000\n"
     ]
    },
    {
     "data": {
      "image/png": "[encoded data removed]",
      "text/plain": [
       "<Figure size 432x288 with 1 Axes>"
      ]
     },
     "metadata": {
      "needs_background": "light"
     },
     "output_type": "display_data"
    },
    {
     "data": {
      "image/png": "[encoded data removed]",
      "text/plain": [
       "<Figure size 432x288 with 1 Axes>"
      ]
     },
     "metadata": {
      "needs_background": "light"
     },
     "output_type": "display_data"
    },
    {
     "name": "stdout",
     "output_type": "stream",
     "text": [
      "Продажи и отзывы внутри остальных платформ\n",
      "              critic_score  user_score  total_sales\n",
      "critic_score      1.000000    0.478958     0.309474\n",
      "user_score        0.478958    1.000000    -0.021818\n",
      "total_sales       0.309474   -0.021818     1.000000\n"
     ]
    },
    {
     "data": {
      "image/png": "[encoded data removed]",
      "text/plain": [
       "<Figure size 432x288 with 1 Axes>"
      ]
     },
     "metadata": {
      "needs_background": "light"
     },
     "output_type": "display_data"
    },
    {
     "data": {
      "image/png": "[encoded data removed]",
      "text/plain": [
       "<Figure size 432x288 with 1 Axes>"
      ]
     },
     "metadata": {
      "needs_background": "light"
     },
     "output_type": "display_data"
    }
   ],
   "source": [
    "games_new_ps4_user = games_new.query('platform == \"PS4\"') #создадим таблицу с данными только по ps4\n",
    "games_new_ps4_critic = games_new.query('platform == \"PS4\"')\n",
    "games_new_other_user = games_new.query('platform != \"PS4\"') #создадим таблицу с данными кроме ps4\n",
    "games_new_other_critic = games_new.query('platform != \"PS4\"')\n",
    "\n",
    "print('Продажи и отзывы внутри PS4')\n",
    "games_new_ps4_critic.sort_values(by='total_sales', ascending=True).plot(x='critic_score', y='total_sales', style='o', alpha=1, legend=True)\n",
    "games_new_ps4_user.sort_values(by='total_sales', ascending=True).plot(x='user_score', y='total_sales', style='o', alpha=0.2, legend=True)\n",
    "games_cor = games_new_ps4_critic[['critic_score', 'user_score', 'total_sales']].corr()\n",
    "print(games_cor)\n",
    "plt.show()\n",
    "\n",
    "print('Продажи и отзывы внутри остальных платформ')\n",
    "games_new_other_critic.sort_values(by='total_sales', ascending=True).plot(x='critic_score', y='total_sales', style='o', alpha=1, legend=True)\n",
    "games_new_other_user.sort_values(by='total_sales', ascending=True).plot(x='user_score', y='total_sales', style='o', alpha=0.2, legend=True)\n",
    "games_cor = games_new_other_critic[['critic_score', 'user_score', 'total_sales']].corr()\n",
    "print(games_cor)\n",
    "plt.show()"
   ]
  },
  {
   "cell_type": "markdown",
   "metadata": {},
   "source": [
    "Графики рассеивания показывают нам, что чем больше рейтинг критиков у игры, тем больше будут у неё продажи. \n",
    "С рейтингом пользователей не всё так однозначно, потому что корреляция отрицательная. Это значит, что даже если у игры будет высокий рейтинг у пользователей, то не факт, что продажи повысятся. Возможно пользователи, которые проставили рейтинг игре, скачали её на торрентах, а не купили. "
   ]
  },
  {
   "cell_type": "code",
   "execution_count": 14,
   "metadata": {},
   "outputs": [
    {
     "name": "stdout",
     "output_type": "stream",
     "text": [
      "Какие игровые жанры любят во всем мире\n"
     ]
    },
    {
     "data": {
      "text/html": [
       "<div>\n",
       "<style scoped>\n",
       "    .dataframe tbody tr th:only-of-type {\n",
       "        vertical-align: middle;\n",
       "    }\n",
       "\n",
       "    .dataframe tbody tr th {\n",
       "        vertical-align: top;\n",
       "    }\n",
       "\n",
       "    .dataframe thead th {\n",
       "        text-align: right;\n",
       "    }\n",
       "</style>\n",
       "<table border=\"1\" class=\"dataframe\">\n",
       "  <thead>\n",
       "    <tr style=\"text-align: right;\">\n",
       "      <th></th>\n",
       "      <th>genre</th>\n",
       "      <th>total_sales</th>\n",
       "      <th>dispersion</th>\n",
       "      <th>std</th>\n",
       "    </tr>\n",
       "  </thead>\n",
       "  <tbody>\n",
       "    <tr>\n",
       "      <th>0</th>\n",
       "      <td>Action</td>\n",
       "      <td>197.97</td>\n",
       "      <td>0.647568</td>\n",
       "      <td>0.804716</td>\n",
       "    </tr>\n",
       "    <tr>\n",
       "      <th>1</th>\n",
       "      <td>Shooter</td>\n",
       "      <td>170.94</td>\n",
       "      <td>4.204827</td>\n",
       "      <td>2.050567</td>\n",
       "    </tr>\n",
       "    <tr>\n",
       "      <th>2</th>\n",
       "      <td>Sports</td>\n",
       "      <td>108.83</td>\n",
       "      <td>1.554087</td>\n",
       "      <td>1.246630</td>\n",
       "    </tr>\n",
       "    <tr>\n",
       "      <th>3</th>\n",
       "      <td>Role-Playing</td>\n",
       "      <td>101.44</td>\n",
       "      <td>1.385997</td>\n",
       "      <td>1.177284</td>\n",
       "    </tr>\n",
       "    <tr>\n",
       "      <th>4</th>\n",
       "      <td>Misc</td>\n",
       "      <td>34.39</td>\n",
       "      <td>0.536326</td>\n",
       "      <td>0.732342</td>\n",
       "    </tr>\n",
       "    <tr>\n",
       "      <th>5</th>\n",
       "      <td>Fighting</td>\n",
       "      <td>28.22</td>\n",
       "      <td>1.411471</td>\n",
       "      <td>1.188053</td>\n",
       "    </tr>\n",
       "    <tr>\n",
       "      <th>6</th>\n",
       "      <td>Racing</td>\n",
       "      <td>27.52</td>\n",
       "      <td>0.928749</td>\n",
       "      <td>0.963716</td>\n",
       "    </tr>\n",
       "    <tr>\n",
       "      <th>7</th>\n",
       "      <td>Platform</td>\n",
       "      <td>18.09</td>\n",
       "      <td>0.522095</td>\n",
       "      <td>0.722561</td>\n",
       "    </tr>\n",
       "    <tr>\n",
       "      <th>8</th>\n",
       "      <td>Adventure</td>\n",
       "      <td>17.32</td>\n",
       "      <td>0.042227</td>\n",
       "      <td>0.205492</td>\n",
       "    </tr>\n",
       "    <tr>\n",
       "      <th>9</th>\n",
       "      <td>Simulation</td>\n",
       "      <td>13.13</td>\n",
       "      <td>0.418511</td>\n",
       "      <td>0.646925</td>\n",
       "    </tr>\n",
       "    <tr>\n",
       "      <th>10</th>\n",
       "      <td>Strategy</td>\n",
       "      <td>3.96</td>\n",
       "      <td>0.014021</td>\n",
       "      <td>0.118412</td>\n",
       "    </tr>\n",
       "    <tr>\n",
       "      <th>11</th>\n",
       "      <td>Puzzle</td>\n",
       "      <td>2.21</td>\n",
       "      <td>0.102803</td>\n",
       "      <td>0.320629</td>\n",
       "    </tr>\n",
       "  </tbody>\n",
       "</table>\n",
       "</div>"
      ],
      "text/plain": [
       "           genre  total_sales  dispersion       std\n",
       "0         Action       197.97    0.647568  0.804716\n",
       "1        Shooter       170.94    4.204827  2.050567\n",
       "2         Sports       108.83    1.554087  1.246630\n",
       "3   Role-Playing       101.44    1.385997  1.177284\n",
       "4           Misc        34.39    0.536326  0.732342\n",
       "5       Fighting        28.22    1.411471  1.188053\n",
       "6         Racing        27.52    0.928749  0.963716\n",
       "7       Platform        18.09    0.522095  0.722561\n",
       "8      Adventure        17.32    0.042227  0.205492\n",
       "9     Simulation        13.13    0.418511  0.646925\n",
       "10      Strategy         3.96    0.014021  0.118412\n",
       "11        Puzzle         2.21    0.102803  0.320629"
      ]
     },
     "metadata": {},
     "output_type": "display_data"
    },
    {
     "data": {
      "image/png": "[encoded data removed]",
      "text/plain": [
       "<Figure size 504x432 with 1 Axes>"
      ]
     },
     "metadata": {},
     "output_type": "display_data"
    }
   ],
   "source": [
    "print('Какие игровые жанры любят во всем мире')\n",
    "games_genre = games_new.groupby('genre').agg({'total_sales':'sum'}).reset_index().sort_values(by='total_sales', ascending=False)\n",
    "games_genre1 = games_new.groupby('genre').agg({'total_sales':'var'}).reset_index()\n",
    "games_genre2 = games_new.groupby('genre').agg({'total_sales':'std'}).reset_index()\n",
    "games_genre = games_genre.merge(games_genre1, on='genre', how='left').merge(games_genre2, on='genre', how='left')\n",
    "games_genre = games_genre.rename(columns={'total_sales_x': 'total_sales', 'total_sales_y': 'dispersion', 'total_sales': 'std'})\n",
    "display(games_genre.sort_values(by='total_sales', ascending=False))\n",
    "\n",
    "games_genre.plot(x='genre', y='total_sales', kind = 'pie', labels = games_genre['genre'], title = 'Жанры в мире', autopct='%1.1f%%', legend = False, grid=True, figsize=(7, 6))\n",
    "plt.show()"
   ]
  },
  {
   "cell_type": "markdown",
   "metadata": {},
   "source": [
    "Построили зависимость продаж от жанра игры. Поняли, что самые продаваемые - это Экшн, Стрелялки и Спорт. Примем это во внимание при формировании нашего итогового плана. "
   ]
  },
  {
   "cell_type": "markdown",
   "metadata": {},
   "source": [
    "## Cоставляем портрет пользователя каждого региона"
   ]
  },
  {
   "cell_type": "markdown",
   "metadata": {},
   "source": [
    "Посмотрим какие жанры игр любят пользователи из разных регионов"
   ]
  },
  {
   "cell_type": "code",
   "execution_count": 15,
   "metadata": {},
   "outputs": [
    {
     "data": {
      "image/png": "[encoded data removed]",
      "text/plain": [
       "<Figure size 504x432 with 1 Axes>"
      ]
     },
     "metadata": {},
     "output_type": "display_data"
    },
    {
     "name": "stdout",
     "output_type": "stream",
     "text": [
      "--------------------------------------------\n"
     ]
    },
    {
     "data": {
      "image/png": "[encoded data removed]",
      "text/plain": [
       "<Figure size 504x432 with 1 Axes>"
      ]
     },
     "metadata": {},
     "output_type": "display_data"
    },
    {
     "name": "stdout",
     "output_type": "stream",
     "text": [
      "--------------------------------------------\n"
     ]
    },
    {
     "data": {
      "image/png": "[encoded data removed]",
      "text/plain": [
       "<Figure size 504x432 with 1 Axes>"
      ]
     },
     "metadata": {},
     "output_type": "display_data"
    }
   ],
   "source": [
    "games_genre_jp = games_new.groupby('genre').agg({'jp_sales':'sum'}).reset_index().sort_values(by='jp_sales', ascending=False)\n",
    "games_genre_jp.plot(x='genre', y='jp_sales', kind = 'pie', labels = games_genre['genre'], title = 'Жанры в Японии', autopct='%1.1f%%', legend = False, grid=True, figsize=(7, 6))\n",
    "plt.show()\n",
    "print('--------------------------------------------')\n",
    "\n",
    "games_genre_eu = games_new.groupby('genre').agg({'eu_sales':'sum'}).reset_index().sort_values(by='eu_sales', ascending=False)\n",
    "games_genre_eu.plot(x='genre', y='eu_sales', kind = 'pie', labels = games_genre['genre'], title = 'Жанры в Европе', autopct='%1.1f%%', legend = False, grid=True, figsize=(7, 6))\n",
    "plt.show()\n",
    "print('--------------------------------------------')\n",
    "\n",
    "games_genre_na = games_new.groupby('genre').agg({'na_sales':'sum'}).reset_index().sort_values(by='na_sales', ascending=False)\n",
    "games_genre_na.plot(x='genre', y='na_sales', kind = 'pie', labels = games_genre['genre'], title = 'Жанры в Северной Америке', autopct='%1.1f%%', legend = False, grid=True, figsize=(7, 6))\n",
    "plt.show()"
   ]
  },
  {
   "cell_type": "markdown",
   "metadata": {},
   "source": [
    "Построили сводные таблицы, где сгруппировали продажи по жанрам в зависимости от континента. \n",
    "Во всех странах картина примерно похожая:\n",
    "* В Японии очень любят экшн и шутеры, спорт же имеет долю всего 7%. Ситуация со спортом вполне объяснима. Популярные спортивные игры по большей части связаны со спортивной культурой стран Европы и Америки (Fifa, NFL), поэтому они непонятны азиатской аудитории. \n",
    "* В Европе ситуация отличается тем, что процент вовлеченности в жанры спорт и ролевые игры сопоставима с первыми двумя жанрами - экшен и шутер. \n",
    "* В Северной Америке ситуация ничем не отличается от Европы"
   ]
  },
  {
   "cell_type": "markdown",
   "metadata": {},
   "source": [
    "Также посмотрим какие консоли предпочитают пользователи из разных регионов"
   ]
  },
  {
   "cell_type": "code",
   "execution_count": 16,
   "metadata": {},
   "outputs": [
    {
     "data": {
      "image/png": "[encoded data removed]",
      "text/plain": [
       "<Figure size 504x432 with 1 Axes>"
      ]
     },
     "metadata": {},
     "output_type": "display_data"
    },
    {
     "name": "stdout",
     "output_type": "stream",
     "text": [
      "--------------------------------------------\n"
     ]
    },
    {
     "data": {
      "image/png": "[encoded data removed]",
      "text/plain": [
       "<Figure size 504x432 with 1 Axes>"
      ]
     },
     "metadata": {},
     "output_type": "display_data"
    },
    {
     "name": "stdout",
     "output_type": "stream",
     "text": [
      "--------------------------------------------\n"
     ]
    },
    {
     "data": {
      "image/png": "[encoded data removed]",
      "text/plain": [
       "<Figure size 504x432 with 1 Axes>"
      ]
     },
     "metadata": {},
     "output_type": "display_data"
    }
   ],
   "source": [
    "games_na = games_new.pivot_table(index='platform', values='na_sales', aggfunc='sum').reset_index().sort_values(by='na_sales', ascending=False)\n",
    "games_na.plot(x='platform', y='na_sales', kind = 'pie', labels = games_na['platform'], title = 'Платформы Северной Америки', autopct='%1.1f%%', legend = False, grid=True, figsize=(7, 6))\n",
    "plt.show()\n",
    "print('--------------------------------------------')\n",
    "games_eu = games_new.pivot_table(index='platform', values='eu_sales', aggfunc='sum').reset_index().sort_values(by='eu_sales', ascending=False)\n",
    "games_eu.plot(x='platform', y='eu_sales', kind = 'pie', labels = games_eu['platform'], title = 'Платформы Европы', autopct='%1.1f%%', legend = False, grid=True, figsize=(7, 6))\n",
    "plt.show()\n",
    "print('--------------------------------------------')\n",
    "games_jp = games_new.pivot_table(index='platform', values='jp_sales', aggfunc='sum').reset_index().sort_values(by='jp_sales', ascending=False)\n",
    "games_jp.plot(x='platform', y='jp_sales', kind = 'pie', labels = games_jp['platform'], title = 'Платформы Японии', autopct='%1.1f%%', legend = False, grid=True, figsize=(7, 6))\n",
    "plt.show()"
   ]
  },
  {
   "cell_type": "markdown",
   "metadata": {},
   "source": [
    "* Америка - это та часть света, где есть местное производство своих платформ xbox, поэтому их божно более выгодно купить + много эксклюзивов для внутреннего рынка. Также не так далеко находится Япония, из которой идет много экспорта, в том числе платформ ps и nintendo. Это объясняет то, что xboxOne и PS4 ,как два мастодонта , почти наравне, старенькие ps3 и xbox360 аналогично, затем японские 3ds и wii\n",
    "* В то время, как Америка сконцентрировалась на огромном внутреннем рынке, Япония тратит часть сил на экспорт, именно поэтому в наших реалиях и этих данных продажи\\поддержка ps4 больше, чем у кого-либо. В Европе преобладает по количеству ps4, и только потом xboxOne. Так же сыграл на руку тот фактор, что ps4 вышла раньше своего конкурента, поэтому игр и комьюнити больше. В Европе нет своих игровых платформ (не берем в расчет PC), поэтому выбирают либо ps, либо xbox. И только после них уже PC, т.к. это хорошая альтернатива\n",
    "* У Японии специфический внутренний рынок, люди в этой стране довольно патриотричны, поэтому выбирают народную продукцию, а именно 3ds, ps4, psv, ps3, wii"
   ]
  },
  {
   "cell_type": "code",
   "execution_count": 17,
   "metadata": {},
   "outputs": [
    {
     "data": {
      "text/html": [
       "<div>\n",
       "<style scoped>\n",
       "    .dataframe tbody tr th:only-of-type {\n",
       "        vertical-align: middle;\n",
       "    }\n",
       "\n",
       "    .dataframe tbody tr th {\n",
       "        vertical-align: top;\n",
       "    }\n",
       "\n",
       "    .dataframe thead th {\n",
       "        text-align: right;\n",
       "    }\n",
       "</style>\n",
       "<table border=\"1\" class=\"dataframe\">\n",
       "  <thead>\n",
       "    <tr style=\"text-align: right;\">\n",
       "      <th></th>\n",
       "      <th>rating</th>\n",
       "      <th>jp_sales</th>\n",
       "      <th>eu_sales</th>\n",
       "      <th>na_sales</th>\n",
       "    </tr>\n",
       "  </thead>\n",
       "  <tbody>\n",
       "    <tr>\n",
       "      <th>2</th>\n",
       "      <td>M</td>\n",
       "      <td>8.01</td>\n",
       "      <td>93.44</td>\n",
       "      <td>96.42</td>\n",
       "    </tr>\n",
       "    <tr>\n",
       "      <th>3</th>\n",
       "      <td>Not Defined</td>\n",
       "      <td>56.54</td>\n",
       "      <td>58.79</td>\n",
       "      <td>64.70</td>\n",
       "    </tr>\n",
       "    <tr>\n",
       "      <th>0</th>\n",
       "      <td>E</td>\n",
       "      <td>8.94</td>\n",
       "      <td>57.64</td>\n",
       "      <td>50.59</td>\n",
       "    </tr>\n",
       "    <tr>\n",
       "      <th>4</th>\n",
       "      <td>T</td>\n",
       "      <td>14.78</td>\n",
       "      <td>34.07</td>\n",
       "      <td>38.95</td>\n",
       "    </tr>\n",
       "    <tr>\n",
       "      <th>1</th>\n",
       "      <td>E10+</td>\n",
       "      <td>4.46</td>\n",
       "      <td>24.15</td>\n",
       "      <td>31.32</td>\n",
       "    </tr>\n",
       "  </tbody>\n",
       "</table>\n",
       "</div>"
      ],
      "text/plain": [
       "        rating  jp_sales  eu_sales  na_sales\n",
       "2            M      8.01     93.44     96.42\n",
       "3  Not Defined     56.54     58.79     64.70\n",
       "0            E      8.94     57.64     50.59\n",
       "4            T     14.78     34.07     38.95\n",
       "1         E10+      4.46     24.15     31.32"
      ]
     },
     "metadata": {},
     "output_type": "display_data"
    },
    {
     "data": {
      "image/png": "[encoded data removed]",
      "text/plain": [
       "<Figure size 432x288 with 1 Axes>"
      ]
     },
     "metadata": {
      "needs_background": "light"
     },
     "output_type": "display_data"
    }
   ],
   "source": [
    "games_region = games_new.groupby('rating').agg({'jp_sales':'sum', 'eu_sales':'sum', 'na_sales':'sum'}).reset_index().sort_values(by='eu_sales', ascending=False)\n",
    "display(games_region)\n",
    "games_region.plot(x='rating', y=['jp_sales', 'eu_sales', 'na_sales'])\n",
    "plt.show()"
   ]
  },
  {
   "cell_type": "markdown",
   "metadata": {},
   "source": [
    "На графике видно, что для Европы и Америки характерно следующее: чем выше рейтинг игры, тем больше продажи. Это говорит о том, что больше всего в игры играют взрослые, либо близкие к этому возрасту подростки.\n",
    "В Японии ситуация немного другая, четко видно, что активно играют именно подростки, т.е. средний возраст игрока гораздно младше, чем в Европе или Северной Америке"
   ]
  },
  {
   "cell_type": "markdown",
   "metadata": {},
   "source": [
    "Для того, чтобы было наглядно видно продажи с пропуском рейтинга, я заполнила пустые значения для данного столбца маркером \"Not Defined\" - \"Не Определён\". Видим интересный результат. С учётом пропусков у нас получается, что большее количество продаж в Японии приходится на игры, рейтинг которых нам неизвестен. Да и в Америке с Европой на эту категорию приходится большое кол-во выручки. Причин этому может быть несколько:\n",
    "1) Один из источников, из которого выгружали данные просто не имеет данных по рейтингу, поэтому у нас такой перекос в эту категорию\n",
    "2) Изучив немного систему рейтинга ESRB, я поняла, что у нас почти нет в датасете игр, которые можно отнести к остальным рейтингам данной классификации - RP (Rating Pending), EC (Early childhood), AO (Adults Only). Похоже игры с отсутствующим рейтингом могут относится к этим категориям, а в источнике данных их не промаркировали.\n",
    "3) Классификация по ESRB - не единственная классификация игр. В Японии в ходу сертификация CERO, а в Европе - PEGI. Возможно в наших источниках данных были проставлены рейтинги по CERO и PEGI, а не ERSB, поэтому данные и не подтянулись "
   ]
  },
  {
   "cell_type": "markdown",
   "metadata": {},
   "source": [
    "## Проверяем гипотезы о средних пользовательских рейтингах платформ и жанров. "
   ]
  },
  {
   "cell_type": "markdown",
   "metadata": {},
   "source": [
    "Проверим гипотезу о том, что средние пользовательские рейтинги платформ Xbox One и PC одинаковые.\n",
    "\n",
    "Нулевую гипотезу сформируем по такому типу - средние двух генеральных совокупностей для парных выборок равны между собой. Альтернативную гипотезу сформируем по типу противоположности, т.е. скорее всего, средние двух генеральных совокупностей для парных выборок неравны между собой.  \n",
    "H0 - Cредние пользовательские рейтинги для Xbox One и PC одинаковые\n",
    "H1 - Cредние пользовательские рейтинги для Xbox One и PC не одинаковые"
   ]
  },
  {
   "cell_type": "code",
   "execution_count": 18,
   "metadata": {},
   "outputs": [
    {
     "name": "stdout",
     "output_type": "stream",
     "text": [
      "Дисперсия оценок x_one 1.813007431520062\n",
      "Дисперсия оценок pc 2.863521505376344\n",
      "Разница дисперсий 0.3668608990307604\n"
     ]
    }
   ],
   "source": [
    "games_isna = games_new[games_new['user_score'].isna() == False]\n",
    "games_isna = games_isna.query('user_score < 999')\n",
    "xbox_one = games_isna.query('platform == \"XOne\"')\n",
    "xbox_one_user = xbox_one['user_score']\n",
    "pc = games_isna.query('platform == \"PC\"')\n",
    "pc_user = pc['user_score']\n",
    "print('Дисперсия оценок x_one',np.var(xbox_one_user))\n",
    "print('Дисперсия оценок pc',np.var(pc_user))\n",
    "print('Разница дисперсий', (np.var(pc_user) - np.var(xbox_one_user)) / np.var(pc_user))\n"
   ]
  },
  {
   "cell_type": "code",
   "execution_count": 19,
   "metadata": {},
   "outputs": [
    {
     "name": "stdout",
     "output_type": "stream",
     "text": [
      "P- значение 0.035970581721361625\n",
      "Отвергаем гипотезу от том, что cредние пользовательские рейтинги платформ Xbox One и PC одинаковые\n"
     ]
    }
   ],
   "source": [
    "alpha = 0.05\n",
    "equal_var = False\n",
    "results = st.ttest_ind(xbox_one_user, pc_user, equal_var = False)\n",
    "print('P- значение', results.pvalue)\n",
    "if (results.pvalue < alpha):\n",
    "    print('Отвергаем гипотезу от том, что cредние пользовательские рейтинги платформ Xbox One и PC одинаковые')\n",
    "else:\n",
    "    print('Не отвергаем гипотезу от том, что cредние пользовательские рейтинги платформ Xbox One и PC одинаковые')"
   ]
  },
  {
   "cell_type": "markdown",
   "metadata": {},
   "source": [
    "Проверим гипотезу о том, что средние пользовательские рейтинги игр жанров Action и Sport разные.\n",
    "\n",
    "Нулевую гипотезу сформируем по такому типу - средние двух генеральных совокупностей для парных выборок равны между собой. Альтернативную гипотезу сформируем по типу противоположности, т.е. скорее всего, средние двух генеральных совокупностей для парных выборок неравны между собой.  \n",
    "H0 - Cредние пользовательские рейтинги для игр жанров Action и Sport разные\n",
    "H1 - Cредние пользовательские рейтинги для игр жанров Action и Sport не разные"
   ]
  },
  {
   "cell_type": "code",
   "execution_count": 20,
   "metadata": {},
   "outputs": [
    {
     "name": "stdout",
     "output_type": "stream",
     "text": [
      "Дисперсия оценок жанра action 1.9677708092691726\n",
      "Дисперсия оценок жанра sports 3.473943966601276\n",
      "Разница дисперсий 0.43356288178869623\n"
     ]
    }
   ],
   "source": [
    "action = games_isna.query('genre == \"Action\"')\n",
    "score_action = action['user_score']\n",
    "sport = games_isna.query('genre == \"Sports\"')\n",
    "score_sport = sport['user_score']\n",
    "print('Дисперсия оценок жанра action',np.var(score_action))\n",
    "print('Дисперсия оценок жанра sports',np.var(score_sport))\n",
    "print('Разница дисперсий',(np.var(score_sport) - np.var(score_action)) / np.var(score_sport))"
   ]
  },
  {
   "cell_type": "code",
   "execution_count": 21,
   "metadata": {},
   "outputs": [
    {
     "name": "stdout",
     "output_type": "stream",
     "text": [
      "P- значение 2.3406739304124057e-16\n",
      "Отвергаем гипотезу от том, что cредние пользовательские рейтинги игр жанров Action и Sport разные\n"
     ]
    }
   ],
   "source": [
    "alpha = 0.05\n",
    "equal_var = False\n",
    "results = st.ttest_ind(score_action, score_sport,  equal_var = False)\n",
    "print('P- значение', results.pvalue)\n",
    "if (results.pvalue < alpha):\n",
    "    print('Отвергаем гипотезу от том, что cредние пользовательские рейтинги игр жанров Action и Sport разные')\n",
    "else:\n",
    "    print('Не отвергаем гипотезу от том, что cредние пользовательские рейтинги жанров Action и Sport не разные', )"
   ]
  },
  {
   "cell_type": "markdown",
   "metadata": {},
   "source": [
    "# Вывод"
   ]
  },
  {
   "cell_type": "markdown",
   "metadata": {},
   "source": [
    "Проанализировав исторические данные о продажах игр, оценки пользователей и экспертов, жанры и платформы мы пришли к следующим выводам:\n",
    "\n",
    "* Самые популярные платформы на момент 2016 г. - это флагманы от Sony, Microsoft и Nintendo, а именно PS4, Xbox One и 3DS. \n",
    "* Cреднее время жизни платформы - 8 лет (P.S. PS4 была выпущена в 2013 году. Глядя на выпуск пятой соньки как раз через примерно этот период сейчас в 2020 - веришь этой цифре)\n",
    "* Игры на платформах PS4, XboxOne, Wii хорошо продаются. Из этого можно сделать вывод, что если игра хорошая, то она будет продаваться на всех платформах. \n",
    "* Чем больше рейтинг критиков у игры - тем лучше она будет продаваться, а вот на зрительские симпатии при планировании продаж лучше не полагаться. \n",
    "* Топ-5 любимых жанров игр у пользователей - Action, Shooter, Sports, Role Playing и Misc, с большим перекосом в пользу первых двух. Это в целом можно объяснить и тем, что продакшн хорошего экшена или шутера стоит гораздо дороже, чем какой-нибудь puzzle игры. \n",
    "* Популярные платформы в Америке - PS4 и Xbox One, Европы - аналогично, а вот Японцы патриотичны и покупают либо продукцию от Nintendo (3DS) или Sony (PSки)\n",
    "* В Европе и Америке большинство продаж приходится на игры с рейтингом повыше, а вот в Японии популярны игры рейтинга для подростков. Не удивительно - В Японии продажа игр рейтинга Z (Mature-Adult в классификации ESRB) контролируется государством. \n",
    "* Средние пользовательские рейтинги для двух самых популярных платформ не одинаковые.\n",
    "* Средние пользовательские рейтинги двух популярных жанров (Action и Sport) наоборот не разные. "
   ]
  },
  {
   "cell_type": "markdown",
   "metadata": {},
   "source": [
    "### План на 2017 г.:"
   ]
  },
  {
   "cell_type": "markdown",
   "metadata": {},
   "source": [
    "* Для Японии будем делать ставки на платформы 3ds, ps4, psv (ps3 и wii морально устарели). Жанры игр возьмем Action и Shooter с рейтингами E и Т"
   ]
  },
  {
   "cell_type": "code",
   "execution_count": 22,
   "metadata": {},
   "outputs": [
    {
     "name": "stdout",
     "output_type": "stream",
     "text": [
      "Список игр:\n",
      "0                      Kirby: Planet Robobot\n",
      "1                     God Eater Resurrection\n",
      "2                 Uncharted 4: A Thief's End\n",
      "3      The Legend of Zelda: Tri Force Heroes\n",
      "4                            Toukiden Kiwami\n",
      "5                                    Destiny\n",
      "6                                  Overwatch\n",
      "7               One Piece: Pirate Warriors 3\n",
      "8                         Samurai Warriors 4\n",
      "9              Fate/Extella: The Umbral Star\n",
      "10              One Piece: Pirate Warriors 3\n",
      "11             Fate/Extella: The Umbral Star\n",
      "12                  Dragon Ball: Xenoverse 2\n",
      "13                        Disney Art Academy\n",
      "14                    God Eater Resurrection\n",
      "15             Samurai Warriors Chronicles 3\n",
      "16    Uncharted: The Nathan Drake Collection\n",
      "17                      inFAMOUS: Second Son\n",
      "18                     Samurai Warriors 4-II\n",
      "19                        Samurai Warriors 4\n",
      "Name: name, dtype: object\n"
     ]
    }
   ],
   "source": [
    "plat_jp = ['PS4', '3DS', 'PSV']\n",
    "genre_jp = ['Action', 'Shooter']\n",
    "rating_jp = ['E', 'T']\n",
    "jp_end = games_new.query('rating in @rating_jp and platform in @plat_jp and genre in @genre_jp').sort_values(by='jp_sales', ascending=False).head(20).reset_index()\n",
    "print('Список игр:')\n",
    "print(jp_end['name'])"
   ]
  },
  {
   "cell_type": "markdown",
   "metadata": {},
   "source": [
    "* Для Северной Америки будем делать ставки на платформы ps4, xboxOne (xbox360- это предшественние xboxOne, так что не размуно ставить на них обоих, тем более, что 360 морально устарел). Жанры игр возьмем Action, Shooter, Sport и Ролевые с рейтингами М и Е"
   ]
  },
  {
   "cell_type": "code",
   "execution_count": 23,
   "metadata": {},
   "outputs": [
    {
     "name": "stdout",
     "output_type": "stream",
     "text": [
      "Список игр:\n",
      "0     Metal Gear Solid V: The Phantom Pain\n",
      "1                       Grand Theft Auto V\n",
      "2                           Dark Souls III\n",
      "3                               Bloodborne\n",
      "4                                Fallout 4\n",
      "5                 The Witcher 3: Wild Hunt\n",
      "6                            Battlefield 1\n",
      "7        Metal Gear Solid V: Ground Zeroes\n",
      "8           Call of Duty: Infinite Warfare\n",
      "9                Tom Clancy's The Division\n",
      "10         Tom Clancy's Rainbow Six: Siege\n",
      "11          Call of Duty: Advanced Warfare\n",
      "12                   Battlefield: Hardline\n",
      "13               Pro Evolution Soccer 2016\n",
      "14                             Dying Light\n",
      "15               Pro Evolution Soccer 2015\n",
      "16                              Watch Dogs\n",
      "17               Pro Evolution Soccer 2017\n",
      "18                         The Evil Within\n",
      "19            Resident Evil: Revelations 2\n",
      "Name: name, dtype: object\n"
     ]
    }
   ],
   "source": [
    "plat_na = ['PS4', 'Xone']\n",
    "genre_na = ['Action', 'Shooter', 'Sports', 'Role-Playing']\n",
    "rating_na = ['E', 'M']\n",
    "jp_end = games_new.query('rating in @rating_na and platform in @plat_na and genre in @genre_na').sort_values(by='jp_sales', ascending=False).head(20).reset_index()\n",
    "print('Список игр:')\n",
    "print(jp_end['name'])"
   ]
  },
  {
   "cell_type": "markdown",
   "metadata": {},
   "source": [
    "* Для Европы будем делать ставки на 2 самых актуальных конкурентов ps4 и xboxOne и альтернативу им PC. Жанры игр возьмем Action, Shooter, Sport и Ролевые с рейтингами М и Е"
   ]
  },
  {
   "cell_type": "code",
   "execution_count": 24,
   "metadata": {},
   "outputs": [
    {
     "name": "stdout",
     "output_type": "stream",
     "text": [
      "Список игр:\n",
      "0     Metal Gear Solid V: The Phantom Pain\n",
      "1                       Grand Theft Auto V\n",
      "2                           Dark Souls III\n",
      "3                               Bloodborne\n",
      "4                                Fallout 4\n",
      "5                 The Witcher 3: Wild Hunt\n",
      "6                            Battlefield 1\n",
      "7        Metal Gear Solid V: Ground Zeroes\n",
      "8           Call of Duty: Infinite Warfare\n",
      "9                Tom Clancy's The Division\n",
      "10                   Battlefield: Hardline\n",
      "11          Call of Duty: Advanced Warfare\n",
      "12         Tom Clancy's Rainbow Six: Siege\n",
      "13               Pro Evolution Soccer 2016\n",
      "14                             Dying Light\n",
      "15                              Watch Dogs\n",
      "16                         The Evil Within\n",
      "17               Pro Evolution Soccer 2017\n",
      "18               Pro Evolution Soccer 2015\n",
      "19                   Batman: Arkham Knight\n",
      "Name: name, dtype: object\n"
     ]
    }
   ],
   "source": [
    "plat_eu = ['PS4', 'Xone', 'PC']\n",
    "genre_eu = ['Action', 'Shooter', 'Sports', 'Role-Playing']\n",
    "rating_eu = ['E', 'M']\n",
    "jp_end = games_new.query('rating in @rating_eu and platform in @plat_eu and genre in @genre_eu').sort_values(by='jp_sales', ascending=False).head(20).reset_index()\n",
    "print('Список игр:')\n",
    "print(jp_end['name'])"
   ]
  }
 ],
 "metadata": {
  "kernelspec": {
   "display_name": "Python 3",
   "language": "python",
   "name": "python3"
  },
  "language_info": {
   "codemirror_mode": {
    "name": "ipython",
    "version": 3
   },
   "file_extension": ".py",
   "mimetype": "text/x-python",
   "name": "python",
   "nbconvert_exporter": "python",
   "pygments_lexer": "ipython3",
   "version": "3.8.5"
  },
  "toc": {
   "base_numbering": 1,
   "nav_menu": {},
   "number_sections": true,
   "sideBar": true,
   "skip_h1_title": true,
   "title_cell": "Table of Contents",
   "title_sidebar": "Contents",
   "toc_cell": false,
   "toc_position": {},
   "toc_section_display": true,
   "toc_window_display": false
  }
 },
 "nbformat": 4,
 "nbformat_minor": 2
}
